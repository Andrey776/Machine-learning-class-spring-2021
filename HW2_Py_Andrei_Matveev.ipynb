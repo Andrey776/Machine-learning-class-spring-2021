{
 "cells": [
  {
   "cell_type": "markdown",
   "metadata": {},
   "source": [
    "# Homework 2 (Programming Part)"
   ]
  },
  {
   "cell_type": "code",
   "execution_count": 470,
   "metadata": {},
   "outputs": [],
   "source": [
    "import numpy as np\n",
    "import pandas as pd\n",
    "import matplotlib.pyplot as plt\n",
    "import sklearn.linear_model\n",
    "from sklearn.metrics import mean_squared_error, r2_score\n",
    "from sklearn.linear_model import SGDRegressor\n",
    "from sklearn.linear_model import LogisticRegression\n",
    "\n",
    "\n",
    "%matplotlib inline"
   ]
  },
  {
   "cell_type": "markdown",
   "metadata": {},
   "source": [
    "## Problem 1"
   ]
  },
  {
   "cell_type": "markdown",
   "metadata": {},
   "source": [
    "Suppose you are the CEO of a food truck company and are considering different cities for opening a new\n",
    "outlet. The chain already has trucks in various cities and you have data for profits and populations from the cities. You would like to use this data to help you select which city to expand to next.\n",
    "\n",
    "The file foodtruck.txt contains the dataset for our linear regression problem. The first column is the population of a city (in 10000s) and the second column is the profit of a food truck in that city (in $10000s). A negative value for profit indicates a loss.\n",
    "\n",
    "(a) Show a scatter plot of the data (profit vs population)\n",
    "\n",
    "(b) Train a linear regression model with a non-iterative method. Show the minimum cost (RSS).\n",
    "\n",
    "(c) Train a linear regression model with stochastic gradient descent (without regularization). Show the minimum cost and check the manual of the class you used to see if you can find the number of epochs before the program is finished.\n",
    "\n",
    "(d) Make predictions for profits in areas of 35000 and 70000 people.\n",
    "\n",
    "(e) Make a plot of the regression line along with the training data."
   ]
  },
  {
   "cell_type": "code",
   "execution_count": 418,
   "metadata": {
    "code_folding": []
   },
   "outputs": [
    {
     "name": "stdout",
     "output_type": "stream",
     "text": [
      "/Users/AM/Documents/_CU Masters/2021 spr Python ML_5027/HW/hw_data\n"
     ]
    }
   ],
   "source": [
    "class HW1_linear:\n",
    "    \n",
    "    def __init__(self, filename):\n",
    "        self.ds = np.loadtxt(filename, delimiter = ',')\n",
    "        self.n, self.col = self.ds.shape[0], self.ds.shape[1]\n",
    "        self.X = self.ds[:,:(self.col-1)]\n",
    "        self.y = self.ds[:,self.col-1]\n",
    "        \n",
    "    def scatter_plot_1(self): \n",
    "        '''(a) Show a scatter plot of the data (profit vs population)'''\n",
    "        plt.plot(self.ds[:,0], self.ds[:,1],'.', color='b', label = 'training data')\n",
    "        plt.xlabel('Population')\n",
    "        plt.ylabel('Profit')\n",
    "        plt.legend()\n",
    "        \n",
    "    def train_linear_noniterative(self): \n",
    "        '''(b) Train a linear regression model with a non-iterative method. Show the minimum cost (RSS).'''\n",
    "        self.lin_reg = sklearn.linear_model.LinearRegression()\n",
    "        self.lin_reg.fit(self.X, self.y)\n",
    "        rss = self.n * mean_squared_error(self.y, self.lin_reg.predict(self.X))\n",
    "        print(f'RSS of the linear model is {rss:.2f}')\n",
    "        return(rss)\n",
    "\n",
    "    def train_SGD(self, verb = 0):\n",
    "        '''(c) Train a linear regression model with stochastic gradient descent (without regularization). \n",
    "        Show the minimum cost and check the manual of the class you used to see \n",
    "        if you can find the number of epochs before the program is finished.'''\n",
    "        \n",
    "        self.sgd_reg = SGDRegressor(verbose=verb, penalty=None)\n",
    "        self.sgd_reg.fit(self.X, self.y)\n",
    "        rss = self.n * mean_squared_error(self.y, self.sgd_reg.predict(self.X))\n",
    "        print(f'RSS of the linear model by SGD is {rss:.2f}')\n",
    "        return(rss)\n",
    "    \n",
    "    def make_prediction(self, areas): # people as list, NOT thousand\n",
    "        '''(d) Make predictions for profits in areas of 35000 and 70000 people.'''\n",
    "        a = np.c_[np.array(areas)/1000]\n",
    "        lin_predicted = self.lin_reg.predict(a)\n",
    "        SGD_lin_predicted = self.sgd_reg.predict(a)\n",
    "        print(f'for areas of {areas} people')\n",
    "        print(f'non-iterative linear regression predicts {lin_predicted}')\n",
    "        print(f'SGD linear regression predicts {SGD_lin_predicted}')\n",
    "\n",
    "    def plot_regressions(self):\n",
    "        '''(e) Make a plot of the regression line along with the training data.'''\n",
    "        self.train_linear_noniterative()\n",
    "        self.train_SGD()\n",
    "        plt.plot(self.X, self.y,'.', color='b', label = 'training data')\n",
    "        plt.plot(self.X, self.lin_reg.predict(self.X), color='r', label = 'non-iterarive regression')\n",
    "        plt.plot(self.X, self.sgd_reg.predict(self.X), color='g', label = 'SGD regression')\n",
    "        plt.xlabel('Population')\n",
    "        plt.ylabel('Profit')\n",
    "        plt.legend()\n",
    "\n",
    "if __name__ == '__main__':\n",
    "    %cd /Users/AM/Documents/_CU Masters/2021 spr Python ML_5027/HW/hw_data\n",
    "    f = HW1_linear('foodtruck.txt')\n",
    "    "
   ]
  },
  {
   "cell_type": "code",
   "execution_count": 363,
   "metadata": {},
   "outputs": [
    {
     "data": {
      "image/png": "[encoded data removed]",
      "text/plain": [
       "<Figure size 432x288 with 1 Axes>"
      ]
     },
     "metadata": {
      "needs_background": "light"
     },
     "output_type": "display_data"
    }
   ],
   "source": [
    "f.scatter_plot_1()"
   ]
  },
  {
   "cell_type": "code",
   "execution_count": 411,
   "metadata": {},
   "outputs": [
    {
     "name": "stdout",
     "output_type": "stream",
     "text": [
      "RSS of the linear model is 868.53\n"
     ]
    }
   ],
   "source": [
    "temp = f.train_linear_noniterative()"
   ]
  },
  {
   "cell_type": "code",
   "execution_count": 412,
   "metadata": {},
   "outputs": [
    {
     "name": "stdout",
     "output_type": "stream",
     "text": [
      "RSS of the linear model by SGD is 946.03\n"
     ]
    }
   ],
   "source": [
    "temp = f.train_SGD(verb=0)"
   ]
  },
  {
   "cell_type": "markdown",
   "metadata": {},
   "source": [
    "**With verb=1 we can find the number of epochs before the program is finished**\n",
    "\n"
   ]
  },
  {
   "cell_type": "code",
   "execution_count": 413,
   "metadata": {},
   "outputs": [
    {
     "name": "stdout",
     "output_type": "stream",
     "text": [
      "for areas of [35000, 70000] people\n",
      "non-iterative linear regression predicts [37.86039667 79.61657421]\n",
      "SGD linear regression predicts [31.64276808 65.27371085]\n"
     ]
    }
   ],
   "source": [
    "f.make_prediction([35000, 70000])"
   ]
  },
  {
   "cell_type": "code",
   "execution_count": 414,
   "metadata": {},
   "outputs": [
    {
     "name": "stdout",
     "output_type": "stream",
     "text": [
      "RSS of the linear model is 868.53\n",
      "RSS of the linear model by SGD is 907.69\n"
     ]
    },
    {
     "data": {
      "image/png": "[encoded data removed]",
      "text/plain": [
       "<Figure size 432x288 with 1 Axes>"
      ]
     },
     "metadata": {
      "needs_background": "light"
     },
     "output_type": "display_data"
    }
   ],
   "source": [
    "f.plot_regressions()"
   ]
  },
  {
   "cell_type": "markdown",
   "metadata": {},
   "source": [
    "## Problem 2"
   ]
  },
  {
   "cell_type": "markdown",
   "metadata": {},
   "source": [
    "Suppose you are selling your house and you want to know what a good market price would be. One way to do this is to first collect information on recent houses sold and make a model of housing prices. \n",
    "\n",
    "The file houseprice.txt contains a training set of housing prices in Portland, Oregon. The first column is the size of the house (in square feet), the second column is the number of bedrooms, and the third column is the price\n",
    "of the house.\n",
    "\n",
    "(a) Train a linear regression model with SGD and print out the minimum cost (RSS).\\\\\n",
    "\n",
    "(b) Train a linear regression model with a non-iterative method and print out the minimum cost (RSS).\\\\\n",
    "\n",
    "(c) Do the minimum costs agree?\\\\\n",
    "\n",
    "(d) Scale you feature matrix using sklearn.preprocessing.StandardScaler. See the manual about what it is and how to use it. Train a linear regression model with SGD using the scaled features. Print out the minimum cost and what do you find?"
   ]
  },
  {
   "cell_type": "code",
   "execution_count": 415,
   "metadata": {},
   "outputs": [
    {
     "name": "stdout",
     "output_type": "stream",
     "text": [
      "RSS of the linear model by SGD is 559301970264116442263193464602624.00\n",
      "RSS of the linear model is 192068324756.67\n"
     ]
    }
   ],
   "source": [
    "p = HW1_linear('houseprice.txt')\n",
    "\n",
    "# (a) Train a linear regression model with SGD and print out the minimum cost (RSS).\\\\\n",
    "p.train_SGD() \n",
    "\n",
    "#(b) Train a linear regression model with a non-iterative method and print out the minimum cost (RSS).\\\\\n",
    "temp = p.train_linear_noniterative() "
   ]
  },
  {
   "cell_type": "markdown",
   "metadata": {},
   "source": [
    "(c) Do the minimum costs agree?\\\n",
    "\n",
    "**As we see above, the cost difference is huge**"
   ]
  },
  {
   "cell_type": "code",
   "execution_count": 416,
   "metadata": {},
   "outputs": [
    {
     "name": "stdout",
     "output_type": "stream",
     "text": [
      "RSS of the linear model by SGD is 192073474698.22\n",
      "RSS of the linear model is 192068324756.67\n",
      "\n",
      "the costs difference is around 0.0027%\n"
     ]
    }
   ],
   "source": [
    "# (d) Scale you feature matrix using sklearn.preprocessing.StandardScaler. \n",
    "#See the manual about what it is and how to use it. \n",
    "#Train a linear regression model with SGD using the scaled features. \n",
    "#Print out the minimum cost and what do you find?\n",
    "\n",
    "from sklearn.preprocessing import StandardScaler\n",
    "scaler = StandardScaler()\n",
    "scaler.fit(p.X)\n",
    "p.X = scaler.transform(p.X) #scale X inside the object\n",
    "temp1 = p.train_SGD() \n",
    "temp2 = p.train_linear_noniterative() \n",
    "print(f'\\nthe costs difference is around {100*abs(temp1 - temp2)/temp1:.4f}%')"
   ]
  },
  {
   "cell_type": "markdown",
   "metadata": {},
   "source": [
    "**We can see that the costs are almost equal after the scaling**"
   ]
  },
  {
   "cell_type": "markdown",
   "metadata": {},
   "source": [
    "## Problem 3"
   ]
  },
  {
   "cell_type": "markdown",
   "metadata": {},
   "source": [
    "We want to implement regularized logistic regression to predict whether microchips from a fabrication plant passes quality assurance (QA). During QA, each microchip goes through various tests to ensure it is functioning correctly.\n",
    "\n",
    "Suppose you are the product manager of the factory and you have the test results for some microchips on two different tests. From these two tests, you would like to determine whether the microchips should be accepted or\n",
    "rejected. To help you make the decision, you have a dataset of test results on past microchips, from which you can build a logistic regression model. The data are stored in QA.txt. The first two columns are the results for the two tests. The third column is the acceptance (1) or rejection (0) of the microchips.\n",
    "\n",
    "(a) Visualize the data; different classes should have different colors and markers.\n",
    "\n",
    "(b) Use polynomial features of degree 6 for the logistic regression. Use L2 regulariztion where $\\alpha=1$. Use the following function plot_decision_boundary to plot the decision boundary.\n",
    "\n",
    "(c) Repeat (b) using $\\alpha=0$ and $\\alpha=100$\n",
    "\n",
    "(d) What do you find for the three cases?"
   ]
  },
  {
   "cell_type": "code",
   "execution_count": 469,
   "metadata": {},
   "outputs": [
    {
     "name": "stdout",
     "output_type": "stream",
     "text": [
      "/Users/AM/Documents/_CU Masters/2021 spr Python ML_5027/HW/hw_data\n"
     ]
    },
    {
     "data": {
      "image/png": "[encoded data removed]",
      "text/plain": [
       "<Figure size 600x600 with 1 Axes>"
      ]
     },
     "metadata": {},
     "output_type": "display_data"
    }
   ],
   "source": [
    "class HW1_poly:\n",
    "    \n",
    "    def __init__(self, filename):\n",
    "        self.ds = np.loadtxt(filename, delimiter = ',')\n",
    "        self.n, self.col = self.ds.shape[0], self.ds.shape[1]\n",
    "        self.X = self.ds[:,:(self.col-1)]\n",
    "        self.y = self.ds[:,self.col-1]\n",
    "        self.acceptance = self.ds[self.y == 1]\n",
    "        self.rejection = self.ds[self.y == 0]\n",
    "            \n",
    "    def scatter_plot(self): \n",
    "        '''(a) Visualize the data; different classes should have different colors and markers.'''\n",
    "        plt.figure(num=None, figsize=(6, 6), dpi=100, facecolor='w', edgecolor='k')\n",
    "        plt.scatter(self.acceptance[:,1], self.acceptance[:,0],\\\n",
    "                    c = 'tab:green', marker = 'P', label = 'acceptance', alpha=0.6)\n",
    "        plt.scatter(self.rejection[:,1], self.rejection[:,0],\\\n",
    "                    c = 'tab:red', marker = 'X', label = 'rejection', alpha=0.6)\n",
    "        plt.xlabel('test score 1')\n",
    "        plt.ylabel('test score 2')\n",
    "        plt.legend()\n",
    "        plt.title('Test results for the microchips on two different tests')\n",
    "    \n",
    "    def log_poly(self, a=1):\n",
    "        '''(b) Use polynomial features of degree 6 for the logistic regression. \n",
    "        Use L2 regulariztion where $\\alpha=1$. \n",
    "        Use the following function plot_decision_boundary to plot the decision boundary.'''\n",
    "        \n",
    "        log_reg_poly = LogisticRegression(penalty=L2, alpha=a)\n",
    "        log_reg_poly.fit(self.X, self.y)\n",
    "        \n",
    "if __name__ == '__main__':\n",
    "    %cd /Users/AM/Documents/_CU Masters/2021 spr Python ML_5027/HW/hw_data\n",
    "    m = HW1_poly('QA.txt')\n",
    "    m.scatter_plot()\n",
    "\n",
    "    "
   ]
  },
  {
   "cell_type": "code",
   "execution_count": null,
   "metadata": {},
   "outputs": [],
   "source": []
  },
  {
   "cell_type": "code",
   "execution_count": 471,
   "metadata": {},
   "outputs": [],
   "source": [
    "def plot_decision_boundary(model, accepted, rejected):\n",
    "    \"\"\"\n",
    "    Plot the decision boundary along with the data for problem 3\n",
    "    input:\n",
    "    model: the logistic regression model\n",
    "    accepted: dataframe of two columns that contains the two test scores for accepted microchips\n",
    "    rejected: dataframe of two columns that contains the two test scores for rejected microchips\n",
    "    \"\"\"\n",
    "    x_min, x_max = -1, 1.5\n",
    "    y_min, y_max = -0.8, 1.2\n",
    "    xx, yy = np.meshgrid(np.linspace(x_min, x_max, 200),\n",
    "                         np.linspace(y_min, y_max, 200))\n",
    "    Z = model.predict(poly.transform(np.c_[xx.ravel(), yy.ravel()]))\n",
    "    Z = Z.reshape(xx.shape)\n",
    "    plt.contour(xx, yy, Z, cmap=plt.cm.Paired)\n",
    "    \n",
    "    plt.scatter(accepted.iloc[:, 0], accepted.iloc[:, 1], marker='x')\n",
    "    plt.scatter(rejected.iloc[:, 0], rejected.iloc[:, 1], marker='s')\n",
    "    plt.legend(['Accepted', 'Rejected'])\n",
    "    plt.xlabel('Test score 1')\n",
    "    plt.ylabel('Test score 2');"
   ]
  }
 ],
 "metadata": {
  "kernelspec": {
   "display_name": "Python 3",
   "language": "python",
   "name": "python3"
  },
  "language_info": {
   "codemirror_mode": {
    "name": "ipython",
    "version": 3
   },
   "file_extension": ".py",
   "mimetype": "text/x-python",
   "name": "python",
   "nbconvert_exporter": "python",
   "pygments_lexer": "ipython3",
   "version": "3.8.5"
  },
  "latex_envs": {
   "LaTeX_envs_menu_present": true,
   "autoclose": false,
   "autocomplete": true,
   "bibliofile": "biblio.bib",
   "cite_by": "apalike",
   "current_citInitial": 1,
   "eqLabelWithNumbers": true,
   "eqNumInitial": 1,
   "hotkeys": {
    "equation": "Ctrl-E",
    "itemize": "Ctrl-I"
   },
   "labels_anchors": false,
   "latex_user_defs": false,
   "report_style_numbering": false,
   "user_envs_cfg": false
  },
  "toc": {
   "base_numbering": 1,
   "nav_menu": {},
   "number_sections": true,
   "sideBar": true,
   "skip_h1_title": false,
   "title_cell": "Table of Contents",
   "title_sidebar": "Contents",
   "toc_cell": false,
   "toc_position": {},
   "toc_section_display": true,
   "toc_window_display": false
  },
  "varInspector": {
   "cols": {
    "lenName": 16,
    "lenType": 16,
    "lenVar": 40
   },
   "kernels_config": {
    "python": {
     "delete_cmd_postfix": "",
     "delete_cmd_prefix": "del ",
     "library": "var_list.py",
     "varRefreshCmd": "print(var_dic_list())"
    },
    "r": {
     "delete_cmd_postfix": ") ",
     "delete_cmd_prefix": "rm(",
     "library": "var_list.r",
     "varRefreshCmd": "cat(var_dic_list()) "
    }
   },
   "types_to_exclude": [
    "module",
    "function",
    "builtin_function_or_method",
    "instance",
    "_Feature"
   ],
   "window_display": false
  }
 },
 "nbformat": 4,
 "nbformat_minor": 4
}
