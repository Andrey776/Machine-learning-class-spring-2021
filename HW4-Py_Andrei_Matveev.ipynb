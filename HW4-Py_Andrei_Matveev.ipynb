{
 "cells": [
  {
   "cell_type": "markdown",
   "id": "organized-stadium",
   "metadata": {},
   "source": [
    "# HW 4 Programming Part"
   ]
  },
  {
   "cell_type": "markdown",
   "id": "usual-upper",
   "metadata": {},
   "source": [
    "## Problem 1"
   ]
  },
  {
   "cell_type": "markdown",
   "id": "driving-there",
   "metadata": {},
   "source": [
    "Consider the problem of predicting if a letter is C or G. The data are stored in letterCG. There are 17 column: the first column is the target label 'C' or 'G', and the rest of the 16 columns are input features.\n",
    "1.\tlettr\tcapital letter\t(C or G)\n",
    "2.\tx-box\thorizontal position of box\t(integer)\n",
    "3.\ty-box\tvertical position of box\t(integer)\n",
    "4.\twidth\twidth of box\t\t\t(integer)\n",
    "5.\thigh \theight of box\t\t\t(integer)\n",
    "6.\tonpix\ttotal # on pixels\t\t(integer)\n",
    "7.\tx-bar\tmean x of on pixels in box\t(integer)\n",
    "8.\ty-bar\tmean y of on pixels in box\t(integer)\n",
    "9.\tx2bar\tmean x variance\t\t\t(integer)\n",
    "10.\ty2bar\tmean y variance\t\t\t(integer)\n",
    "11.\txybar\tmean x y correlation\t\t(integer)\n",
    "12.\tx2ybr\tmean of x * x * y\t\t(integer)\n",
    "13.\txy2br\tmean of x * y * y\t\t(integer)\n",
    "14.\tx-ege\tmean edge count left to right\t(integer)\n",
    "15.\txegvy\tcorrelation of x-ege with y\t(integer)\n",
    "16.\ty-ege\tmean edge count bottom to top\t(integer)\n",
    "17.\tyegvx\tcorrelation of y-ege with x\t(integer)\n",
    "\n",
    "Split the data into training $70\\%$ and validation $30\\%$ parts, with a random state of $30$. \n",
    "1. Implement the Adaboost algorithm with decision tree with max depth=1 as the base classifier and use learning rate=0.2. Run Adaboost for 200 rounds (M=200). \n",
    "\n",
    "2. Use the staged_score() function (check the function description) on the validation data to get the accuracy score to find the optimal $M$. The final Adaboost ensemble uses the optimal $M$. \n",
    "\n",
    "3. Report the accuracy of prediction with the final ensemble for the validation instances.\n",
    "\n",
    "4. Make a plot of the accuracy score vs ensemble size/rounds (M) for the training data. Make the same plot for the validation data on the same figure. What do you find?\n",
    "\n",
    "(Hint: when you read the data using pandas.read_csv(), you need to set delim_whitespace to True)"
   ]
  }
 ],
 "metadata": {
  "kernelspec": {
   "display_name": "Python 3",
   "language": "python",
   "name": "python3"
  },
  "language_info": {
   "codemirror_mode": {
    "name": "ipython",
    "version": 3
   },
   "file_extension": ".py",
   "mimetype": "text/x-python",
   "name": "python",
   "nbconvert_exporter": "python",
   "pygments_lexer": "ipython3",
   "version": "3.8.5"
  },
  "latex_envs": {
   "LaTeX_envs_menu_present": true,
   "autoclose": false,
   "autocomplete": true,
   "bibliofile": "biblio.bib",
   "cite_by": "apalike",
   "current_citInitial": 1,
   "eqLabelWithNumbers": true,
   "eqNumInitial": 1,
   "hotkeys": {
    "equation": "Ctrl-E",
    "itemize": "Ctrl-I"
   },
   "labels_anchors": false,
   "latex_user_defs": false,
   "report_style_numbering": false,
   "user_envs_cfg": false
  },
  "toc": {
   "base_numbering": 1,
   "nav_menu": {},
   "number_sections": true,
   "sideBar": true,
   "skip_h1_title": false,
   "title_cell": "Table of Contents",
   "title_sidebar": "Contents",
   "toc_cell": false,
   "toc_position": {},
   "toc_section_display": true,
   "toc_window_display": false
  }
 },
 "nbformat": 4,
 "nbformat_minor": 5
}
