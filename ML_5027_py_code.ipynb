{
 "cells": [
  {
   "cell_type": "code",
   "execution_count": 22,
   "metadata": {},
   "outputs": [],
   "source": [
    "import numpy as np\n",
    "import scipy as sp\n",
    "import pandas as pd\n",
    "import sklearn.linear_model as sk_lm\n",
    "from sklearn.preprocessing import PolynomialFeatures\n",
    "import matplotlib.pyplot as plt\n",
    "from matplotlib.pylab import rcParams\n",
    "%matplotlib inline\n"
   ]
  },
  {
   "cell_type": "code",
   "execution_count": 61,
   "metadata": {},
   "outputs": [
    {
     "name": "stdout",
     "output_type": "stream",
     "text": [
      "[[ 1.  0.  0.  0.]\n",
      " [ 1.  1.  5. 19.]\n",
      " [ 1.  4. 21. 44.]\n",
      " [ 1.  2. 23. 56.]\n",
      " [ 1.  3. 45. 67.]]\n"
     ]
    }
   ],
   "source": [
    "\n",
    "l_reg = sklearn.linear_model.LinearRegression()\n",
    "x=np.array([[0,0,0],[1,5,19], [4,21,44], [2,23,56], [3,45,67]])\n",
    "X = np.c_[np.ones(5), x]\n",
    "y = np.array([1,3,12,34,44])\n",
    "print(X)\n",
    "model = l_reg.fit(X, y)\n",
    "\n",
    "#model = sk_lm.LinearRegression.fit(X, y)\n",
    "#plt.plot(x,y,'o', color = 'r')"
   ]
  },
  {
   "cell_type": "code",
   "execution_count": 64,
   "metadata": {},
   "outputs": [
    {
     "data": {
      "image/png": "[encoded data removed]",
      "text/plain": [
       "<Figure size 432x288 with 1 Axes>"
      ]
     },
     "metadata": {
      "needs_background": "light"
     },
     "output_type": "display_data"
    }
   ],
   "source": [
    " # one hundred cases\n",
    "n = 100\n",
    "# generate 100 uniform numbers between -3 and 3\n",
    "x = 6*np.random.rand(n)-3\n",
    "# generate a quadratic function with some Gaussian noises \n",
    "y = 0.5*x**2 + x + 2 + np.random.randn(n)\n",
    "# plot the data\n",
    "plt.plot(x, y, '.');"
   ]
  },
  {
   "cell_type": "code",
   "execution_count": 67,
   "metadata": {},
   "outputs": [
    {
     "name": "stdout",
     "output_type": "stream",
     "text": [
      "[-1.45611614]\n",
      "(100, 2)\n"
     ]
    },
    {
     "data": {
      "text/plain": [
       "array([-1.45611614,  2.12027423])"
      ]
     },
     "execution_count": 67,
     "metadata": {},
     "output_type": "execute_result"
    }
   ],
   "source": [
    " # Build a polynomial feature object with degree 2 (quadratic), # no need to add a column of 1's\n",
    "poly = PolynomialFeatures(degree=2, include_bias=False)\n",
    "# make a 2d array for the feature\n",
    "X = np.c_[x]\n",
    "print(X[0,:])\n",
    "# use fit_transform to add the quadratic feature\n",
    "X = poly.fit_transform(X)\n",
    "# See the shape of X; now it has 2 columns, x and x squared, \n",
    "print(X.shape)\n",
    "# See the first row of the data\n",
    "X[0,:]"
   ]
  }
 ],
 "metadata": {
  "kernelspec": {
   "display_name": "Python 3",
   "language": "python",
   "name": "python3"
  },
  "language_info": {
   "codemirror_mode": {
    "name": "ipython",
    "version": 3
   },
   "file_extension": ".py",
   "mimetype": "text/x-python",
   "name": "python",
   "nbconvert_exporter": "python",
   "pygments_lexer": "ipython3",
   "version": "3.8.5"
  },
  "varInspector": {
   "cols": {
    "lenName": 16,
    "lenType": 16,
    "lenVar": 40
   },
   "kernels_config": {
    "python": {
     "delete_cmd_postfix": "",
     "delete_cmd_prefix": "del ",
     "library": "var_list.py",
     "varRefreshCmd": "print(var_dic_list())"
    },
    "r": {
     "delete_cmd_postfix": ") ",
     "delete_cmd_prefix": "rm(",
     "library": "var_list.r",
     "varRefreshCmd": "cat(var_dic_list()) "
    }
   },
   "types_to_exclude": [
    "module",
    "function",
    "builtin_function_or_method",
    "instance",
    "_Feature"
   ],
   "window_display": false
  }
 },
 "nbformat": 4,
 "nbformat_minor": 4
}
