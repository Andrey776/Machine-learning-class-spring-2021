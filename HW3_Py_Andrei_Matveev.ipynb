{
 "cells": [
  {
   "cell_type": "markdown",
   "id": "organized-stadium",
   "metadata": {},
   "source": [
    "# HW 3 Programming Part"
   ]
  },
  {
   "cell_type": "markdown",
   "id": "usual-upper",
   "metadata": {},
   "source": [
    "## Problem 1"
   ]
  },
  {
   "cell_type": "markdown",
   "id": "driving-there",
   "metadata": {},
   "source": [
    "Read in the dataset stored in 'HW3P1.txt'. The first two columns represent two features, and the last column is the labels (0 and 1).\n",
    "\n",
    "(a) Plot the training data, each class with a different color and marker.\n",
    "\n",
    "(b) Build two linear SVM classifiers, one with $C=1$ and one with $C=100$. Plot the decision boundary for each case along with the training data.\n",
    "\n",
    "(c) Interpretate what leads to the different behavior of the two models (and thus the decision boundaries)."
   ]
  },
  {
   "cell_type": "markdown",
   "id": "quiet-moscow",
   "metadata": {},
   "source": [
    "## Problem 2"
   ]
  },
  {
   "cell_type": "markdown",
   "id": "covered-folks",
   "metadata": {},
   "source": [
    "Read in the dataset stored in 'HW3P2.txt'. The first two columns represent two features, and the last column is the labels (0 and 1).\n",
    "\n",
    "(a) Plot the training data, each class with a different color and marker. Is the dataset linearly separable?\n",
    "\n",
    "(b) Train a SVM using the RBF kernel. Adjust the parameter C to learn a decision boundary that performs well. Plot the decsion boundary."
   ]
  },
  {
   "cell_type": "markdown",
   "id": "adverse-liver",
   "metadata": {},
   "source": [
    "## Problem 3"
   ]
  },
  {
   "cell_type": "markdown",
   "id": "turned-lending",
   "metadata": {},
   "source": [
    "We will investigate the wine quality problem. The data are stored in 'winequality-red.csv'. The description of the data can be found at https://archive.ics.uci.edu/ml/datasets/wine+quality. The last column of the data is the wine quality (0-10), and the other columns are features. Suppose we are intetered in classifying if the wine is good (quality greater than 5) or bad (quality less than or equal to 5). \n",
    "\n",
    "(a) Prepare the data. Get the feature matrix, target vector (good wines are labled 1, and 0 for bad wines). Also note that the data are separated by \";\". Split the data into training and testing parts using train_test_split (). Set the parameters so that $20\\%$ of the data are used as test data. Also set the random_state to 30, so that everyone gets the same splitting.\n",
    "\n",
    "(b) Build a logistic regression model for your training data. Use all default parameters, except setting solver to 'liblinear'. Also scale the data before building the model. Report the precision, recall and F1 for the testing data.\n",
    "\n",
    "(c) Repeat Part (b) with a support vector classifier (remember to scale data before training too). Use all default parameters.\n",
    "\n",
    "(d) Draw the ROC curves for both models from (b) and (c) on the same plot. Find the AUCs for both models too. Does one seem better than the other?"
   ]
  }
 ],
 "metadata": {
  "kernelspec": {
   "display_name": "Python 3",
   "language": "python",
   "name": "python3"
  },
  "language_info": {
   "codemirror_mode": {
    "name": "ipython",
    "version": 3
   },
   "file_extension": ".py",
   "mimetype": "text/x-python",
   "name": "python",
   "nbconvert_exporter": "python",
   "pygments_lexer": "ipython3",
   "version": "3.8.5"
  },
  "latex_envs": {
   "LaTeX_envs_menu_present": true,
   "autoclose": false,
   "autocomplete": true,
   "bibliofile": "biblio.bib",
   "cite_by": "apalike",
   "current_citInitial": 1,
   "eqLabelWithNumbers": true,
   "eqNumInitial": 1,
   "hotkeys": {
    "equation": "Ctrl-E",
    "itemize": "Ctrl-I"
   },
   "labels_anchors": false,
   "latex_user_defs": false,
   "report_style_numbering": false,
   "user_envs_cfg": false
  },
  "toc": {
   "base_numbering": 1,
   "nav_menu": {},
   "number_sections": true,
   "sideBar": true,
   "skip_h1_title": false,
   "title_cell": "Table of Contents",
   "title_sidebar": "Contents",
   "toc_cell": false,
   "toc_position": {},
   "toc_section_display": true,
   "toc_window_display": false
  }
 },
 "nbformat": 4,
 "nbformat_minor": 5
}
