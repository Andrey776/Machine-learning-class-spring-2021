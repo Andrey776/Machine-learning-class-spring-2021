{
 "cells": [
  {
   "cell_type": "code",
   "execution_count": 3,
   "id": "f56a50af",
   "metadata": {},
   "outputs": [],
   "source": [
    "import numpy as np \n",
    "import scipy.io as sio\n",
    "import matplotlib.pyplot as plt\n",
    "import matplotlib as mpl\n",
    "from matplotlib.image import imread\n",
    "from sklearn.pipeline import Pipeline\n",
    "from sklearn import preprocessing\n",
    "from sklearn.preprocessing import StandardScaler\n",
    "from sklearn.model_selection import GridSearchCV, RandomizedSearchCV\n",
    "from sklearn.model_selection import train_test_split\n",
    "\n",
    "from sklearn.metrics import f1_score\n",
    "from sklearn import svm\n",
    "from sklearn.cluster import KMeans\n",
    "#from sklearn.decomposition import PCA\n",
    "from sklearn.svm import LinearSVC\n",
    "from sklearn.linear_model import LogisticRegression\n",
    "from scipy.stats import uniform"
   ]
  },
  {
   "cell_type": "markdown",
   "id": "clinical-clinton",
   "metadata": {},
   "source": [
    "# Problem 1"
   ]
  },
  {
   "cell_type": "markdown",
   "id": "included-pottery",
   "metadata": {},
   "source": [
    "The dataset compute_servers.mat contains data that measure the throughput (mb/s) (second column) and latency (ms) (first column) of 307 server computers being monitored. You suspect that most of these examples are \"normal\" examples of the servers operating normally, but there may also be some examples of servers acting anomalously within this dataset.\n",
    "\n",
    "a. Make a scatter plot of the data. The first columm is latency and the second is throughput. Does it look like that there are anomalies?\n",
    "\n",
    "b. Now we will use a Gaussian mixture model to detect anomalous examples. Just by looking at the plot in Part (a), how many Gaussian distributions should be considered in the mixture model?\n",
    "\n",
    "c. Use the number of Gaussian distributions found in Part (b) to build a Gaussian mixture model for the data. Show the weight(s), mean(s) and covariance matrix (matrices) of the Gaussian distriubtion(s).\n",
    "\n",
    "d. Now that you have estimated the Gaussian parameters, we can use it for anomaly detection as we did in Lecture 12. Consider a range of percentiles: 100 percentiles equidistantly distributed between 0.001 and 5, i.e., between the 0.001th percentile and 5th percentile of the densities. Use the true labels provided in the data and F1 score to find the best percentile that should be used for anomaly detection.\n",
    "\n",
    "e. Make a scatter plot of the data. This time, use a different color for the anomalous data points."
   ]
  },
  {
   "cell_type": "markdown",
   "id": "collaborative-strengthening",
   "metadata": {},
   "source": [
    "## Problem 2"
   ]
  },
  {
   "cell_type": "markdown",
   "id": "described-disco",
   "metadata": {},
   "source": [
    "In this exercise, you will implement the K-means algorithm for image compression. Recall in a straightforward color representation of an image, each pixel is represented as three usigned integers ranging from 0 to 255 that specify the red, gree and blue intensity values. This encoding is refered to as the RGB encoding. The image included 'bird_small.png' contains thousands of colors, and you will reduce the number of colors to 16 colors.\n",
    "\n",
    "Use the K-means algorithm to select the 16 colors that will be used to represent the compressed image. Specifically, treat every pixel in the original image as a data example and use the K-means algorithm to find the 16 colors that best group the pixels in the 3-dimensional RGB space. Once you have computed the cluster centroids on\n",
    "the image, you will then use the 16 colors to replace the pixels in the original\n",
    "image.\n",
    "\n",
    "a) Load the image (128 by 128 by 3) and show the image. Reshape it to a two dimensional array with 3 columns. \n",
    "\n",
    "b) Apply K-Means clustering to the image data with 16 clusters and show the centroids. Set the random_state to 10.\n",
    "\n",
    "c) Now, you have significantly reduced the number of bits (bytes) that are required to describe the image. The original image required 24 bits (or 3 bytes, one for each of R,G,B)  for each one of the $128\\times 128$ pixel locations, resulting in total size of $128\\times128\\times24 = 393216$ bits. The new representation requires some\n",
    "overhead storage in form of a dictionary of 16 colors, each of which require\n",
    "$24$ bits, but the image itself then only requires 4 bits (an unsigned integer from 0 to 15 indicating the cluster number) per pixel location. The total number of bits used is therefore $16 \\times 24 + 128 \\times 128 \\times 4 = 65920$ bits,\n",
    "which corresponds to compressing the original image by about a factor of 6.\n",
    "\n",
    "Now view the effects of the compression by reconstructing the image based only on the centroid assignments. Specifically, you can replace the RGB intensities at each pixel location with the mean of the centroid assigned to it."
   ]
  },
  {
   "cell_type": "code",
   "execution_count": 16,
   "id": "38d1a9ac",
   "metadata": {},
   "outputs": [
    {
     "name": "stdout",
     "output_type": "stream",
     "text": [
      "/Users/AM/Documents/_CU Masters/2021 spr Python ML_5027/ML_py_code/hw_data\n"
     ]
    },
    {
     "data": {
      "text/plain": [
       "(128, 128, 3)"
      ]
     },
     "execution_count": 16,
     "metadata": {},
     "output_type": "execute_result"
    }
   ],
   "source": [
    "%cd /Users/AM/Documents/_CU Masters/2021 spr Python ML_5027/ML_py_code/hw_data\n",
    "image = imread(\"bird_small.png\")"
   ]
  },
  {
   "cell_type": "code",
   "execution_count": 25,
   "id": "35dd9c58",
   "metadata": {},
   "outputs": [
    {
     "data": {
      "text/plain": [
       "(12288, 4)"
      ]
     },
     "execution_count": 25,
     "metadata": {},
     "output_type": "execute_result"
    }
   ],
   "source": [
    "image = image.reshape(-1,4)\n",
    "scaler = StandardScaler()\n",
    "image_sc = scaler.fit_transform(image)\n",
    "np.shape(image_sc)"
   ]
  },
  {
   "cell_type": "code",
   "execution_count": 26,
   "id": "4c6def79",
   "metadata": {},
   "outputs": [
    {
     "data": {
      "text/plain": [
       "KMeans(n_clusters=16, random_state=10)"
      ]
     },
     "execution_count": 26,
     "metadata": {},
     "output_type": "execute_result"
    }
   ],
   "source": [
    "K_means = KMeans(n_clusters=16, random_state=10)\n",
    "K_means.fit(image)"
   ]
  },
  {
   "cell_type": "code",
   "execution_count": 29,
   "id": "afa0c1a4",
   "metadata": {},
   "outputs": [
    {
     "data": {
      "text/plain": [
       "array([[0.9125935 , 0.73736   , 0.9645765 , 0.9163453 ],\n",
       "       [0.18283913, 0.1816678 , 0.18324652, 0.1833823 ],\n",
       "       [0.56438625, 0.31966633, 0.77286863, 0.57448256],\n",
       "       [0.5273846 , 0.5653013 , 0.5410387 , 0.5061923 ],\n",
       "       [0.71271145, 0.53782225, 0.3339361 , 0.7239655 ],\n",
       "       [0.09013289, 0.09028015, 0.0905726 , 0.09054238],\n",
       "       [0.2940913 , 0.3367806 , 0.30688363, 0.2804251 ],\n",
       "       [0.2579822 , 0.6895972 , 0.4984599 , 0.24968272],\n",
       "       [0.8727246 , 0.6965818 , 0.4405502 , 0.87339187],\n",
       "       [0.49934894, 0.38466752, 0.2724098 , 0.49635318],\n",
       "       [0.9724593 , 0.9127918 , 0.7528366 , 0.965027  ],\n",
       "       [0.39105693, 0.26931292, 0.5474893 , 0.41170096],\n",
       "       [0.7444614 , 0.74545455, 0.71044695, 0.714394  ],\n",
       "       [0.72531796, 0.9633831 , 0.907354  , 0.7381864 ],\n",
       "       [0.4420176 , 0.84941936, 0.7043876 , 0.45212764],\n",
       "       [0.71134746, 0.47631687, 0.85962665, 0.71927214]], dtype=float32)"
      ]
     },
     "execution_count": 29,
     "metadata": {},
     "output_type": "execute_result"
    }
   ],
   "source": [
    "K_means.cluster_centers_"
   ]
  },
  {
   "cell_type": "code",
   "execution_count": null,
   "id": "e77ad424",
   "metadata": {},
   "outputs": [],
   "source": []
  }
 ],
 "metadata": {
  "kernelspec": {
   "display_name": "Python 3",
   "language": "python",
   "name": "python3"
  },
  "language_info": {
   "codemirror_mode": {
    "name": "ipython",
    "version": 3
   },
   "file_extension": ".py",
   "mimetype": "text/x-python",
   "name": "python",
   "nbconvert_exporter": "python",
   "pygments_lexer": "ipython3",
   "version": "3.8.5"
  },
  "latex_envs": {
   "LaTeX_envs_menu_present": true,
   "autoclose": false,
   "autocomplete": true,
   "bibliofile": "biblio.bib",
   "cite_by": "apalike",
   "current_citInitial": 1,
   "eqLabelWithNumbers": true,
   "eqNumInitial": 1,
   "hotkeys": {
    "equation": "Ctrl-E",
    "itemize": "Ctrl-I"
   },
   "labels_anchors": false,
   "latex_user_defs": false,
   "report_style_numbering": false,
   "user_envs_cfg": false
  },
  "toc": {
   "base_numbering": 1,
   "nav_menu": {},
   "number_sections": true,
   "sideBar": true,
   "skip_h1_title": false,
   "title_cell": "Table of Contents",
   "title_sidebar": "Contents",
   "toc_cell": false,
   "toc_position": {},
   "toc_section_display": true,
   "toc_window_display": false
  },
  "varInspector": {
   "cols": {
    "lenName": 16,
    "lenType": 16,
    "lenVar": 40
   },
   "kernels_config": {
    "python": {
     "delete_cmd_postfix": "",
     "delete_cmd_prefix": "del ",
     "library": "var_list.py",
     "varRefreshCmd": "print(var_dic_list())"
    },
    "r": {
     "delete_cmd_postfix": ") ",
     "delete_cmd_prefix": "rm(",
     "library": "var_list.r",
     "varRefreshCmd": "cat(var_dic_list()) "
    }
   },
   "types_to_exclude": [
    "module",
    "function",
    "builtin_function_or_method",
    "instance",
    "_Feature"
   ],
   "window_display": false
  }
 },
 "nbformat": 4,
 "nbformat_minor": 5
}
