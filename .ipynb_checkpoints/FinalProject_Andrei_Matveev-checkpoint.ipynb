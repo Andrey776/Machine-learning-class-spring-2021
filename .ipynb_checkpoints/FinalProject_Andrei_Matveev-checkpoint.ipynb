{
 "cells": [
  {
   "cell_type": "markdown",
   "id": "federal-trust",
   "metadata": {},
   "source": [
    "\\textbf{Instructions:}\n",
    "\n",
    "1. Make sure you submit the solutions before the deadline (Sunday May 9, 2021 by midnight). Late submission will be penalized as follows: late within one day (24 hours): 15% penalty; late within two days: 30% penalty, late within three days: 40% penalty. Submission after three days will not be accepted.\n",
    "\n",
    "2. Discussion with classmates on the problems is not allowed. All clarification questions should be directed to me. You should be responsible for the debugging of the code. I have provided a lot of check points to help you gain confidence of your code.\n",
    "\n",
    "3. Make sure you rerun the whole Jupyter file one last time before submission. When I grade your code, I will run the code from scratch, and I will grade based on what I get. It happens sometimes that you unintentionally change some code that has been debugged and re-introduce some bugs. Rerunnning the whole code one final time before submission prevents that happening.\n",
    "\n",
    "4. After you submit your code, it is your responsibility to check if you submitted the correct file. Sometimes an empty file is submitted by mistake. I will treat any resubmissions past the deadline that are due to such mistakes as late submissions.\n",
    "\n",
    "5. Please utilize the time wisely. It is suggested to finish 5 or more of the questions in the first week, and the rest in the second.\n",
    "\n",
    "6. The data files needed are: 'movie_ids.txt', 'movieParams.mat' and 'movies.mat'.\n",
    "\n",
    "Hope you enjoy the project and good luck! "
   ]
  },
  {
   "cell_type": "markdown",
   "id": "floral-reader",
   "metadata": {},
   "source": [
    "\\textbf{Score distributions}:\n",
    "\n",
    "|Parts     | Points  |\n",
    "|----------|---------|\n",
    "|Part 1a   | 5 pts   |\n",
    "|Part 1b   | 5 pts   |\n",
    "|Part 2    | 10 pts  |\n",
    "|Part 3    | 10 pts  |\n",
    "|Part 4    | 10 pts  |\n",
    "|Part 5    | 10 pts  |\n",
    "|Part 6a   | 5 pts   |\n",
    "|Part 6b   | 5 pts   |\n",
    "|Part 7    | 10 pts  |\n",
    "|Part 8a   | 5 pts   |\n",
    "|Part 8b   | 5 pts   |\n",
    "|Part 9    | 15 pts  |\n",
    "|Part 10   | 5 pts   |\n",
    "|Total     | 100 pts |"
   ]
  },
  {
   "cell_type": "code",
   "execution_count": 1,
   "id": "placed-tribune",
   "metadata": {},
   "outputs": [],
   "source": [
    "from scipy.io import loadmat\n",
    "import numpy as np\n",
    "from scipy.optimize import approx_fprime\n",
    "from scipy.optimize import fmin_cg\n",
    "import matplotlib.pyplot as plt\n",
    "from sklearn.neighbors import NearestNeighbors\n",
    "\n",
    "import scipy.io as sio\n",
    "\n",
    "%matplotlib inline"
   ]
  },
  {
   "cell_type": "markdown",
   "id": "nonprofit-seller",
   "metadata": {},
   "source": [
    "# Final Project -- Building a Movie Recommendation System"
   ]
  },
  {
   "cell_type": "markdown",
   "id": "bizarre-portfolio",
   "metadata": {},
   "source": [
    "In this project, you will learn to build a recommendation system using a technique called \\textbf{Collaborative Filtering}. You will see two different ways to implment the algorithm, which can provide somewhat different results. The first one is named \\textbf{Matrix Factorization} and the second one is based on \\textbf{nearest neighbors}. You will be guided in great detail to implement the two methods."
   ]
  },
  {
   "cell_type": "markdown",
   "id": "unlimited-little",
   "metadata": {},
   "source": [
    "## Backgroud"
   ]
  },
  {
   "cell_type": "markdown",
   "id": "second-gabriel",
   "metadata": {},
   "source": [
    "Movie ratings on a scale of 1 to 5 have been collected from 943 users of a review-aggregation website for 1682 movies ($n_u=943$, $n_m=1682$). The ratings are sparse, which means each user only gives ratings to the movies they watched. We would like to develop an algorithm that can predict the ratings to all the movies a user did not rate, so we can recommend movies to the user based on the largest predicted ratings.\n",
    "\n",
    "Related data files: 'movie.mat' containing the matrices $Y$ and $R$ to be explained below, 'movieParams.mat' containing some pretrained parameters to be explained, and 'movie_idx.txt' containing the names and years of all the 1682 movies."
   ]
  },
  {
   "cell_type": "markdown",
   "id": "heated-observation",
   "metadata": {},
   "source": [
    "## Part 1--Load the data \n",
    "\n",
    "Load 'movies.mat'. You will see there are two matrices: $Y$ ($n_m\\times n_u$) and $R$ ($n_m\\times n_u$). \n",
    "\n",
    "The matrix $Y$ contains the ratings (1 to 5), where each element $y_{ij}$ represents the rating to movie $i$ by user $j$, so each row of the matrix represents all the ratings to a particular movie by all the users, and each column of the matrix represents all the ratings given by a particular user. If $y_{ij}=0$, then it means movie $i$ was not rated by user $j$.\n",
    "\n",
    "The matrix $R$ is an binary-valued indicator matrix (mask matrix), where $R_{ij}=1$ if user $j$ gave a rating to movie $i$, and $R_{ij}=0$ otherwise. \n",
    "\n",
    "To get a better understanding of the data, let's do the following steps: \n",
    "\n",
    "\\textbf{Part 1a (5 pts)}: Draw a histogram of the number of movies a user rated, i.e., use matrix $R$ to find $n_u$ numbers, each representing the number of movies a user rated, and plot the histogram of the $n_u$ numbers. You should see most users rated a small number of movies.\n",
    "\n",
    "\\textbf{Part 1b (5 pts)}:  Compute the average movie rating for the first movie--Toy Story with the np.mean function (Note that the average rating should be ONLY calculated with the ratings that are greater than 0. A zero value in $Y$ means no rating was given and should not be counted in the averaging.) in two ways: 1) Use Only $Y$; 2) Use $Y$ and $R$, where $R$, after converted to bool type, can be used to select the numbers (columns) in $Y$ that will be used for averaging. You should get the same average with the two methods."
   ]
  },
  {
   "cell_type": "code",
   "execution_count": 2,
   "id": "01dd5e47",
   "metadata": {},
   "outputs": [
    {
     "name": "stdout",
     "output_type": "stream",
     "text": [
      "/Users/AM/Documents/_CU Masters/2021 spr Python ML_5027/ML_py_code/hw_data\n",
      "dict_keys(['__header__', '__version__', '__globals__', 'Y', 'R']) dict_keys(['__header__', '__version__', '__globals__', 'X', 'Theta', 'num_users', 'num_movies', 'num_features'])\n",
      "943 1682 10\n"
     ]
    }
   ],
   "source": [
    "%cd /Users/AM/Documents/_CU Masters/2021 spr Python ML_5027/ML_py_code/hw_data\n",
    "f = sio.loadmat('movies.mat')\n",
    "params = sio.loadmat('movieParams.mat')\n",
    "print(f.keys(), params.keys())\n",
    "N_users, N_movies, N_featerus = params['num_users'][0,0] , params['num_movies'][0,0], params['num_features'][0,0]\n",
    "print(N_users, N_movies, N_featerus)\n",
    "X = params['X']\n",
    "Theta = params['Theta']"
   ]
  },
  {
   "cell_type": "code",
   "execution_count": 3,
   "id": "cef66cdf",
   "metadata": {},
   "outputs": [
    {
     "name": "stdout",
     "output_type": "stream",
     "text": [
      "(1682, 943) (1682, 943)\n"
     ]
    },
    {
     "data": {
      "text/plain": [
       "(array([[5, 4, 0, ..., 5, 0, 0],\n",
       "        [3, 0, 0, ..., 0, 0, 5],\n",
       "        [4, 0, 0, ..., 0, 0, 0],\n",
       "        ...,\n",
       "        [0, 0, 0, ..., 0, 0, 0],\n",
       "        [0, 0, 0, ..., 0, 0, 0],\n",
       "        [0, 0, 0, ..., 0, 0, 0]], dtype=uint8),\n",
       " array([[1, 1, 0, ..., 1, 0, 0],\n",
       "        [1, 0, 0, ..., 0, 0, 1],\n",
       "        [1, 0, 0, ..., 0, 0, 0],\n",
       "        ...,\n",
       "        [0, 0, 0, ..., 0, 0, 0],\n",
       "        [0, 0, 0, ..., 0, 0, 0],\n",
       "        [0, 0, 0, ..., 0, 0, 0]], dtype=uint8))"
      ]
     },
     "execution_count": 3,
     "metadata": {},
     "output_type": "execute_result"
    }
   ],
   "source": [
    "print(f['R'].shape, f['Y'].shape)\n",
    "R = f['R'] \n",
    "Y = f['Y']\n",
    "Y, R"
   ]
  },
  {
   "cell_type": "code",
   "execution_count": 4,
   "id": "0b4ef2e3",
   "metadata": {},
   "outputs": [
    {
     "data": {
      "image/png": "[encoded data removed]",
      "text/plain": [
       "<Figure size 432x288 with 1 Axes>"
      ]
     },
     "metadata": {
      "needs_background": "light"
     },
     "output_type": "display_data"
    }
   ],
   "source": [
    "temp = R.sum(axis = 0)\n",
    "plt.hist(temp, bins = 50)\n",
    "plt.xlabel(\"Number of movies\")\n",
    "plt.ylabel('Namber of users')\n",
    "plt.title('Histogram of the number of movies a user rated')\n",
    "plt.show()"
   ]
  },
  {
   "cell_type": "code",
   "execution_count": 5,
   "id": "0a0d61be",
   "metadata": {},
   "outputs": [
    {
     "name": "stdout",
     "output_type": "stream",
     "text": [
      "3.8783185840707963 3.8783185840707963 True\n"
     ]
    }
   ],
   "source": [
    "mean_1 = Y[0,:].mean(where = (Y[0,:] != 0))\n",
    "mean_2 = Y[0,:].mean(where = R[0,:].astype(bool))\n",
    "print(mean_1, mean_2, mean_1 == mean_2)"
   ]
  },
  {
   "cell_type": "markdown",
   "id": "orange-harassment",
   "metadata": {},
   "source": [
    "## Part 2--Define the model and cost function\n",
    "\n",
    "Now we will consider two new matrices: $X$ ($n_m\\times n_f$)  and $\\Theta$ ($n_u\\times n_f$), where $n_f$ is set to be 10 in this problem, which is the number of features. The $X$ matrix represents the features of the movies, e.g., the $i$th row of $X$, $\\boldsymbol{x}^{(i)}$ may represent the 10 features, say the degrees of action genre, romance genre, cartoon genre, etc., of the $i$th movie. The $\\Theta$ matrix represents the features of the users, e.g., the $j$th row, $\\boldsymbol{\\theta}^{(j)}$, may represent how much user $j$ is interested in each of the 10 features (genres) of the movies. \n",
    "\n",
    "\\begin{equation*}\n",
    "X=\\left[\\begin{array}{c}\n",
    "-\\left(\\boldsymbol{x}^{(1)}\\right)^{T}- \\\\\n",
    "-\\left(\\boldsymbol{x}^{(2)}\\right)^{T}- \\\\\n",
    "\\vdots \\\\\n",
    "-\\left(\\boldsymbol{x}^{\\left(n_{m}\\right)}\\right)^{T}-\n",
    "\\end{array}\\right], \\quad \\Theta=\\left[\\begin{array}{c}\n",
    "-\\left(\\boldsymbol{\\theta}^{(1)}\\right)^{T}- \\\\\n",
    "-\\left(\\boldsymbol{\\theta}^{(2)}\\right)^{T}- \\\\\n",
    "\\vdots \\\\\n",
    "-\\left(\\boldsymbol{\\theta}^{\\left(n_{u}\\right)}\\right)^{T}-\n",
    "\\end{array}\\right]\n",
    "\\end{equation*}\n",
    "\n",
    "Now we introduce the matrix factorizaton algorithm for collaborative filtering learning. The goal is to learn the values of both the $X$ and $\\Theta$ matrices, so that the model predicts the rating for movie $i$ by user $j$ as the dot product of the $i$th row of $X$ and the $j$th row of $\\Theta$: $\\left(\\boldsymbol{x}^{(i)}\\right)^T \\boldsymbol{\\theta}^{(j)}$.\n",
    "\n",
    "Now we can define the cost function (without regularization) as the residual sum of squares:\n",
    "\\begin{equation*}\n",
    "J(\\boldsymbol{x}^{(1)},\\dots,\\boldsymbol{x}^{(n_m)},\\boldsymbol{\\theta}^{(1)},\\dots,\\boldsymbol{\\theta}^{(n_u)}) = \\frac{1}{2}\\sum_{(i,j):R_{ij}=1}\\left(\\left(\\boldsymbol{x}^{(i)}\\right)^T \\boldsymbol{\\theta}^{(j)}-y_{ij}\\right)^2\n",
    "\\end{equation*}\n",
    "where $\\left(\\boldsymbol{x}^{(i)}\\right)^T \\boldsymbol{\\theta}^{(j)}-y_{ij}$ represents the difference between the model prediction and the true rating. Note that the sum is only over all of the ratings that are nonzero ($(i,j):R_{ij}=1$).\n",
    "\n",
    "\\textbf{Part 2 (10 pts)}: Write a function named cofiCostFunc_v1 (the template is provided below) that calculates the cost function of the collaborative learning algorithm using for loops (non-matrix form). The function computes the cost function value $J$ given $X$ and $\\Theta$. Note that $X$ and $\\Theta$ are compactly stored in a one-dimensional numpy array \\textit{params}, so that the first $n_m\\times n_f$ elements of \\textit{params} are the values of $X$ and the next $n_u\\times n_f$ elements are the values of $\\Theta$.\n",
    "\n",
    "A function named cofiCostFunc is also provided that calculates the cost function in matrix form (which is much faster).\n",
    "\n",
    "Now test if you can trust the cofiCostFunc_v1 function you have just coded. Load the data file 'movieParams.mat', which contains pretrained $X$ and $\\Theta$ matrix. Use the following values for testing:\n",
    "\n",
    "\\begin{enumerate}\n",
    "\\item num_users = 4\n",
    "\\item num_movies = 5\n",
    "\\item num_features = 3\n",
    "\\item params = np.concatenate([X[:num_movies,:num_features].flatten(), Theta[:num_users, :num_features].flatten()])\n",
    "\\end{enumerate}\n",
    "\n",
    "As a result, $Y$, $R$ to be fed into the functions are only part of the original $Y$ and $R$.\n",
    "\n",
    "For both cofiCostFunc_v1 and cofiCostFunc you should get a value of around $22.22$. If that is what you got, congratulations!"
   ]
  },
  {
   "cell_type": "code",
   "execution_count": 6,
   "id": "acting-hopkins",
   "metadata": {},
   "outputs": [],
   "source": [
    "def cofiCostFunc_v1(params, Y, R, num_users, num_movies, num_features, la=0):\n",
    "    \"\"\"\n",
    "    The function using for loops to compute the cost function of the\n",
    "    collaborative learning algorithm\n",
    "    Input:\n",
    "    params: a 1D numpy array of size (n_m times n_f+n_u times n_f,) that stores the values of\n",
    "            X and Theta at which the cost function will be evaluated\n",
    "    Y: the Y matrix of size (n_m, n_u) that stores the user ratings\n",
    "    R: the R indicator matrix of size (n_m, n_u)\n",
    "    num_users: scalar, the number of users, n_u\n",
    "    num_movies: scalar, the number of movies, n_m\n",
    "    num_features: scalar, the number of features n_f\n",
    "    la: scalar, set to 0 by default, not useful in this function here, \n",
    "        but it will be used later for penalized cost function\n",
    "    \n",
    "    Return:\n",
    "    J: a scaler, which is the cost function value\n",
    "    \"\"\"\n",
    "    # first get X and Theta matrix from params\n",
    "    X = params[:num_movies*num_features].reshape(num_movies, num_features)\n",
    "    Theta = params[num_movies*num_features:].reshape(num_users, num_features)\n",
    "    # Calculating the cost function value using for loop(s)\n",
    "    J = 0\n",
    "    for user in range(num_users):\n",
    "        for movie in range(num_movies):\n",
    "            if R[movie, user] == 1:  \n",
    "                movie_cost = np.dot(X[movie, :], Theta[user, :])\n",
    "                J += (movie_cost - Y[movie, user])**2\n",
    "\n",
    "    J = J/2\n",
    "    return J"
   ]
  },
  {
   "cell_type": "code",
   "execution_count": 7,
   "id": "3b0ba61c",
   "metadata": {},
   "outputs": [],
   "source": [
    "num_users = 4\n",
    "num_movies = 5\n",
    "num_features = 3\n",
    "params1 = np.concatenate([X[:num_movies,:num_features].flatten(), Theta[:num_users, :num_features].flatten()])\n"
   ]
  },
  {
   "cell_type": "code",
   "execution_count": 8,
   "id": "returning-terrorism",
   "metadata": {},
   "outputs": [],
   "source": [
    "def cofiCostFunc(params, Y, R, num_users, num_movies, num_features, la=0):\n",
    "    \"\"\"\n",
    "    The function using matrix form (vectorization) to compute the cost function of the\n",
    "    collaborative learning algorithm\n",
    "    Input:\n",
    "    params: a 1D numpy array of size (n_m times n_f+n_u times n_f,) that stores the values of\n",
    "            X and Theta at which the cost function will be evaluated\n",
    "    Y: the Y matrix of size (n_m, n_u) that stores the user ratings\n",
    "    R: the R indicator matrix of size (n_m, n_u)\n",
    "    num_users: scalar, the number of users, n_u\n",
    "    num_movies: scalar, the number of movies, n_m\n",
    "    num_features: scalar, the number of features n_f\n",
    "    la: scalar, set to 0 by default, not useful in this function here, \n",
    "        but it will be used later for penalized cost function\n",
    "    \n",
    "    Return:\n",
    "    J: a scaler, which is the cost function value\n",
    "    \"\"\"\n",
    "    X = params[:num_movies*num_features].reshape(num_movies, num_features)\n",
    "    Theta = params[num_movies*num_features:].reshape(num_users, num_features) \n",
    "    J = 0.5*np.sum((R[:num_movies, :num_users]*X.dot(Theta.T)-Y[:num_movies, :num_users])**2)\n",
    "    return J"
   ]
  },
  {
   "cell_type": "code",
   "execution_count": 9,
   "id": "954e84d4",
   "metadata": {},
   "outputs": [
    {
     "data": {
      "text/plain": [
       "22.22460372568567"
      ]
     },
     "execution_count": 9,
     "metadata": {},
     "output_type": "execute_result"
    }
   ],
   "source": [
    "cofiCostFunc_v1(params1, Y, R, num_users, num_movies, num_features, la=0)"
   ]
  },
  {
   "cell_type": "code",
   "execution_count": 10,
   "id": "64761932",
   "metadata": {},
   "outputs": [
    {
     "data": {
      "text/plain": [
       "22.224603725685675"
      ]
     },
     "execution_count": 10,
     "metadata": {},
     "output_type": "execute_result"
    }
   ],
   "source": [
    "cofiCostFunc(params1, Y, R, num_users, num_movies, num_features, la=0)"
   ]
  },
  {
   "cell_type": "markdown",
   "id": "technical-reserve",
   "metadata": {},
   "source": [
    "## Part 3--Define the gradient function\n",
    "\n",
    "Again, we do not have a closed-form solution to the problem of minimizing the cost function and we have to use an iterative method, which depends on the gradient with respect to the \\textit{params} vector (i.e., all the values in $X$ and $\\Theta$).\n",
    "\n",
    "\\begin{equation*}\n",
    "\\begin{aligned}\n",
    "\\frac{\\partial J}{\\partial x_{k}^{(i)}} &=\\sum_{j: r(i, j)=1}\\left(\\left(\\boldsymbol{x}^{(i)}\\right)^T\\boldsymbol{\\theta}^{(j)} -y_{i, j}\\right) \\theta_{k}^{(j)} \\\\\n",
    "\\frac{\\partial J}{\\partial \\theta_{k}^{(j)}} &=\\sum_{i: r(i, j)=1}\\left(\\left(\\boldsymbol{x}^{(i)}\\right)^T\\boldsymbol{\\theta}^{(j)}-y_{i, j}\\right) x_{k}^{(i)}\n",
    "\\end{aligned}\n",
    "\\end{equation*}\n",
    "where $x_k^{(i)}$ is the $k$th element of $\\boldsymbol{x}^{(i)}$, which is also $X[i,k]$, and $\\theta_k^{(j)}$ is the $k$th element of $\\boldsymbol{\\theta}^{(j)}$, which is also $\\Theta[j,k]$.\n",
    "\n",
    "\\textbf{Part 3 (10 pts)}: A function named cofiGradientFunc is provided that calculates the gradient in matrix form.\n",
    "\n",
    "Use the function to evaluate the gradient using the parameters given in Part 2. Print out the gradient. To test if you can trust the cofiGradientFunc function, use scipy.optimize.approx_fprime function (https://docs.scipy.org/doc/scipy/reference/generated/scipy.optimize.approx_fprime.html). To run this function, the first paramter xk is the same as params, f is cofiCostFunc, epsilon is 0.001, followed by all of the rest of the parameters needed by cofiCostFunc (i.e., all other than params) in order.\n",
    "\n",
    "For both cofiGradientFunc and scipy.optimize.approx_fprime you should get similar results, the first three are -2.52899165   7.57570308  -1.89979026. If that is what you got, congratulations again!"
   ]
  },
  {
   "cell_type": "code",
   "execution_count": 11,
   "id": "coordinate-designer",
   "metadata": {},
   "outputs": [],
   "source": [
    "def cofiGradientFunc(params, Y, R, num_users, num_movies, num_features, la=0):\n",
    "    \"\"\"\n",
    "    The function using matrix form (vectorization) to compute the gradient \n",
    "    of the cost function of the collaborative learning algorithm\n",
    "    Input:\n",
    "    params: a 1D numpy array of size (n_m times n_f+n_u times n_f,) that stores the values of\n",
    "            X and Theta at which the cost function will be evaluated\n",
    "    Y: the Y matrix of size (n_m, n_u) that stores the user ratings\n",
    "    R: the R indicator matrix of size (n_m, n_u)\n",
    "    num_users: scalar, the number of users, n_u\n",
    "    num_movies: scalar, the number of movies, n_m\n",
    "    num_features: scalar, the number of features n_f\n",
    "    la: scalar, set to 0 by default, not useful in this function here, \n",
    "        but it will be used later for penalized gradient function\n",
    "    \n",
    "    Return:\n",
    "    J: a 1D numpy array of the same size as params, which is the gradient vector\n",
    "    \"\"\"\n",
    "    X = params[:num_movies*num_features].reshape(num_movies, num_features)\n",
    "    Theta = params[num_movies*num_features:].reshape(num_users, num_features)     \n",
    "    X_grad = (R*(X.dot(Theta.T)-Y)).dot(Theta)\n",
    "    Theta_grad = (R*(X.dot(Theta.T)-Y)).T.dot(X)\n",
    "    grad = np.concatenate([X_grad.flatten(), Theta_grad.flatten()])\n",
    "    return grad"
   ]
  },
  {
   "cell_type": "code",
   "execution_count": 12,
   "id": "a147b64c",
   "metadata": {},
   "outputs": [
    {
     "data": {
      "text/plain": [
       "array([ -2.52899165,   7.57570308,  -1.89979026,  -0.56819597,\n",
       "         3.35265031,  -0.52339845,  -0.83240713,   4.91163297,\n",
       "        -0.76677878,  -0.38358278,   2.26333698,  -0.35334048,\n",
       "        -0.80378006,   4.74271842,  -0.74040871, -10.5680202 ,\n",
       "         4.62776019,  -7.16004443,  -3.05099006,   1.16441367,\n",
       "        -3.47410789,   0.        ,   0.        ,   0.        ,\n",
       "         0.        ,   0.        ,   0.        ])"
      ]
     },
     "execution_count": 12,
     "metadata": {},
     "output_type": "execute_result"
    }
   ],
   "source": [
    "cofiGradientFunc(params1, Y[:num_movies, :num_users], R[:num_movies, :num_users], num_users, num_movies, num_features, la=0)"
   ]
  },
  {
   "cell_type": "code",
   "execution_count": 13,
   "id": "ed9b91e8",
   "metadata": {},
   "outputs": [
    {
     "data": {
      "text/plain": [
       "array([ -2.52882339,   7.57722481,  -1.8997053 ,  -0.56815523,\n",
       "         3.35406869,  -0.52336389,  -0.83236639,   4.91305134,\n",
       "        -0.76674421,  -0.38354205,   2.26475536,  -0.35330591,\n",
       "        -0.80373932,   4.7441368 ,  -0.74037414, -10.56641733,\n",
       "         4.62839051,  -7.1588951 ,  -3.05044019,   1.16449376,\n",
       "        -3.47339493,   0.        ,   0.        ,   0.        ,\n",
       "         0.        ,   0.        ,   0.        ])"
      ]
     },
     "execution_count": 13,
     "metadata": {},
     "output_type": "execute_result"
    }
   ],
   "source": [
    "approx_fprime(params1, cofiCostFunc, 0.001,\n",
    "             Y[:num_movies, :num_users], R[:num_movies, :num_users], \n",
    "              num_users, num_movies, num_features)"
   ]
  },
  {
   "cell_type": "markdown",
   "id": "adjusted-builder",
   "metadata": {},
   "source": [
    "## Part 4--Regularized cost function\n",
    "\n",
    "Now we will refine the definition of the cost function by adding regularization similar to the Ridge regression. The regularized cost function is defined as:\n",
    "\n",
    "\\begin{equation*}\n",
    "J(\\boldsymbol{x}^{(1)},\\dots,\\boldsymbol{x}^{(n_m)},\\boldsymbol{\\theta}^{(1)},\\dots,\\boldsymbol{\\theta}^{(n_u)}) = \\frac{1}{2}\\sum_{(i,j):R_{ij}=1}\\left(\\left(\\boldsymbol{x}^{(i)}\\right)^T \\boldsymbol{\\theta}^{(j)}-y_{ij}\\right)^2 + \\left(\\frac{\\lambda}{2} \\sum_{j=1}^{n_{u}} \\sum_{k=1}^{n_f}\\left(\\theta_{k}^{(j)}\\right)^{2}\\right)+\\left(\\frac{\\lambda}{2} \\sum_{i=1}^{n_{m}} \\sum_{k=1}^{n_f}\\left(x_{k}^{(i)}\\right)^{2}\\right)\n",
    "\\end{equation*}\n",
    "\n",
    "\\textbf{Part 4 (10 pts)}: Write a function named cofiCostFunc_v2 very similar to cofiCostFunc_v1 that calculates the regularized cost function of the collaborative learning algorithm using for loops (non-matrix form). Note that you only need to add the two extra terms in the regularized cost function. The la variable defined in the codes above represents the $\\lambda$ value.\n",
    "\n",
    "A function named cofiCostFunc_Regularized is also provided that calculates the cost function in matrix form.\n",
    "\n",
    "Now test if you can trust the cofiCostFunc_v2 function you have just coded as what you did in Part2. Use $la=1.5$. \n",
    "\n",
    "For both cofiCostFunc_v2 and cofiCostFunc_Regularized you should get a value of around $31.34$. If that is what you got, congratulations!"
   ]
  },
  {
   "cell_type": "code",
   "execution_count": 14,
   "id": "354d8fb2",
   "metadata": {},
   "outputs": [],
   "source": [
    "def cofiCostFunc_v2(params, Y, R, num_users, num_movies, num_features, la=0):\n",
    "    \"\"\"\n",
    "    The function using for loops to compute the cost function of the\n",
    "    collaborative learning algorithm\n",
    "    Input:\n",
    "    params: a 1D numpy array of size (n_m times n_f+n_u times n_f,) that stores the values of\n",
    "            X and Theta at which the cost function will be evaluated\n",
    "    Y: the Y matrix of size (n_m, n_u) that stores the user ratings\n",
    "    R: the R indicator matrix of size (n_m, n_u)\n",
    "    num_users: scalar, the number of users, n_u\n",
    "    num_movies: scalar, the number of movies, n_m\n",
    "    num_features: scalar, the number of features n_f\n",
    "    la: scalar, set to 0 by default, not useful in this function here, \n",
    "        but it will be used later for penalized cost function\n",
    "    \n",
    "    Return:\n",
    "    J: a scaler, which is the cost function value\n",
    "    \"\"\"\n",
    "    # first get X and Theta matrix from params\n",
    "    X = params[:num_movies*num_features].reshape(num_movies, num_features)\n",
    "    Theta = params[num_movies*num_features:].reshape(num_users, num_features)\n",
    "    # Calculating the cost function value using for loop(s)\n",
    "    J = 0\n",
    "    for user in range(num_users):\n",
    "        for movie in range(num_movies):\n",
    "            if R[movie, user] == 1:  \n",
    "                movie_cost = np.dot(X[movie, :], Theta[user, :])\n",
    "                J += (movie_cost - Y[movie, user])**2 \n",
    "    J = J/2 + (la/2) * (np.square(X).sum() + np.square(Theta).sum())\n",
    "    return J"
   ]
  },
  {
   "cell_type": "code",
   "execution_count": 15,
   "id": "medium-claim",
   "metadata": {},
   "outputs": [],
   "source": [
    "def cofiCostFunc_Regularized(params, Y, R, num_users, num_movies, num_features, la):\n",
    "    \"\"\"\n",
    "    The function using matrix form (vectorization) to compute the penalized\n",
    "    cost function of the collaborative learning algorithm\n",
    "    \n",
    "    Input:\n",
    "    params: a 1D numpy array of size (n_m times n_f+n_u times n_f,) that stores the values of\n",
    "            X and Theta at which the penalized cost function will be evaluated\n",
    "    Y: the Y matrix of size (n_m, n_u) that stores the user ratings\n",
    "    R: the R indicator matrix of size (n_m, n_u)\n",
    "    num_users: scalar, the number of users, n_u\n",
    "    num_movies: scalar, the number of movies, n_m\n",
    "    num_features: scalar, the number of features n_f\n",
    "    la: scalar, the penalization coefficient\n",
    "    \n",
    "    Return:\n",
    "    J: scalar, the penalized cost function\n",
    "    \"\"\"\n",
    "    X = params[:num_movies*num_features].reshape(num_movies, num_features)\n",
    "    Theta = params[num_movies*num_features:].reshape(num_users, num_features)     \n",
    "    J = 0.5*np.sum((R*X.dot(Theta.T)-Y)**2)  \n",
    "    \n",
    "    J = J + la/2*(np.sum(X**2) + np.sum(Theta**2))\n",
    "    \n",
    "    return J"
   ]
  },
  {
   "cell_type": "code",
   "execution_count": 16,
   "id": "812ba5c6",
   "metadata": {},
   "outputs": [
    {
     "data": {
      "text/plain": [
       "31.344056244274213"
      ]
     },
     "execution_count": 16,
     "metadata": {},
     "output_type": "execute_result"
    }
   ],
   "source": [
    "cofiCostFunc_v2(params1, Y, R, num_users, num_movies, num_features, la=1.5)"
   ]
  },
  {
   "cell_type": "code",
   "execution_count": 17,
   "id": "92b7473e",
   "metadata": {},
   "outputs": [
    {
     "data": {
      "text/plain": [
       "31.34405624427422"
      ]
     },
     "execution_count": 17,
     "metadata": {},
     "output_type": "execute_result"
    }
   ],
   "source": [
    "cofiCostFunc_Regularized(params1, Y[:num_movies, :num_users], R[:num_movies, :num_users], \n",
    "                         num_users, num_movies, num_features, la=1.5)"
   ]
  },
  {
   "cell_type": "markdown",
   "id": "precious-extension",
   "metadata": {},
   "source": [
    "## Part 5--Regularized gradient\n",
    "\n",
    "Similar to Part 3, we now can find the gradient with respect to the \\textit{params} vector (i.e., all the values in $X$ and $\\Theta$) for the penalized cost function.\n",
    "\n",
    "\\begin{equation*}\n",
    "\\begin{aligned}\n",
    "\\frac{\\partial J}{\\partial x_{k}^{(i)}} &=\\sum_{j: r(i, j)=1}\\left(\\left(\\boldsymbol{x}^{(i)}\\right)^T\\boldsymbol{\\theta}^{(j)} -y_{i, j}\\right) \\theta_{k}^{(j)} +\\lambda x_k^{(i)}\\\\\n",
    "\\frac{\\partial J}{\\partial \\theta_{k}^{(j)}} &=\\sum_{i: r(i, j)=1}\\left(\\left(\\boldsymbol{x}^{(i)}\\right)^T\\boldsymbol{\\theta}^{(j)}-y_{i, j}\\right) x_{k}^{(i)} +\\lambda \\theta_k^{(j)}\n",
    "\\end{aligned}\n",
    "\\end{equation*}\n",
    "\n",
    "\\textbf{Part 5 (10 pts)}: A function named cofiGradientFunc_Regularized is provided that calculates the regularized gradient in matrix form.\n",
    "\n",
    "Use the function to evaluate the gradient as in Part 3 with $la=1.5$. Print out the gradient. Use the scipy.optimize.approx_fprime function again to verify the results.\n",
    "\n",
    "The first three gradient values should be -0.95596339,   6.97535514,  -0.10861109. If that is what you got, let's move on!"
   ]
  },
  {
   "cell_type": "code",
   "execution_count": 18,
   "id": "legendary-stuff",
   "metadata": {},
   "outputs": [],
   "source": [
    "def cofiGradientFunc_Regularized(params, Y, R, num_users, num_movies, num_features, la):\n",
    "    \"\"\"\n",
    "    The function using matrix form (vectorization) to compute the gradient \n",
    "    of the penalized cost function of the collaborative learning algorithm\n",
    "    \n",
    "    Input:\n",
    "    params: a 1D numpy array of size (n_m times n_f+n_u times n_f,) that stores the values of\n",
    "            X and Theta at which the gradient will be evaluated\n",
    "    Y: the Y matrix of size (n_m, n_u) that stores the user ratings\n",
    "    R: the R indicator matrix of size (n_m, n_u)\n",
    "    num_users: scalar, the number of users, n_u\n",
    "    num_movies: scalar, the number of movies, n_m\n",
    "    num_features: scalar, the number of features n_f\n",
    "    la: scalar, the penalization coefficient\n",
    "    \n",
    "    Return:\n",
    "    grad : a 1D numpy array of the same size as params, which is the gradient vector\n",
    "    \"\"\"\n",
    "    X = params[:num_movies*num_features].reshape(num_movies, num_features)\n",
    "    Theta = params[num_movies*num_features:].reshape(num_users, num_features)     \n",
    "    X_grad = (R*(X.dot(Theta.T)-Y)).dot(Theta)\n",
    "    Theta_grad = (R*(X.dot(Theta.T)-Y)).T.dot(X)    \n",
    "    \n",
    "    X_grad = X_grad + la*X  \n",
    "    Theta_grad = Theta_grad + la*Theta\n",
    "    \n",
    "    grad = np.concatenate([X_grad.flatten(), Theta_grad.flatten()])\n",
    "    return grad"
   ]
  },
  {
   "cell_type": "code",
   "execution_count": 19,
   "id": "8e0b0aa9",
   "metadata": {},
   "outputs": [
    {
     "data": {
      "text/plain": [
       "array([ -0.95596339,   6.97535514,  -0.10861109,   0.60308088,\n",
       "         2.77421145,   0.25839822,   0.12985616,   4.0898522 ,\n",
       "        -0.89247334,   0.29684395,   1.06300933,   0.66738144,\n",
       "         0.60252677,   4.90185327,  -0.19747928, -10.13985478,\n",
       "         2.10136256,  -6.76563628,  -2.29347024,   0.48244098,\n",
       "        -2.99791422,  -0.64787484,  -0.71820673,   1.27006666,\n",
       "         1.09289758,  -0.40784086,   0.49026541])"
      ]
     },
     "execution_count": 19,
     "metadata": {},
     "output_type": "execute_result"
    }
   ],
   "source": [
    "cofiGradientFunc_Regularized(params1,\n",
    "                             Y[:num_movies, :num_users],\n",
    "                             R[:num_movies, :num_users],\n",
    "                             num_users, num_movies, num_features, la=1.5)"
   ]
  },
  {
   "cell_type": "code",
   "execution_count": 20,
   "id": "7426e8f3",
   "metadata": {},
   "outputs": [
    {
     "data": {
      "text/plain": [
       "array([ -0.95504514,   6.97762687,  -0.10777613,   0.60387162,\n",
       "         2.77637982,   0.25918279,   0.1306469 ,   4.09202057,\n",
       "        -0.89168878,   0.29763469,   1.0651777 ,   0.66816601,\n",
       "         0.60331751,   4.90402165,  -0.19669471, -10.13750191,\n",
       "         2.10274288,  -6.76373695,  -2.29217037,   0.48327107,\n",
       "        -2.99645126,  -0.64712484,  -0.71745673,   1.27081666,\n",
       "         1.09364758,  -0.40709086,   0.49101541])"
      ]
     },
     "execution_count": 20,
     "metadata": {},
     "output_type": "execute_result"
    }
   ],
   "source": [
    "approx_fprime(params1, cofiCostFunc_Regularized, 0.001, \n",
    "              Y[:num_movies, :num_users], \n",
    "              R[:num_movies, :num_users], \n",
    "              num_users, num_movies, num_features, 1.5)"
   ]
  },
  {
   "cell_type": "markdown",
   "id": "controlling-budapest",
   "metadata": {},
   "source": [
    "## Part 6--Add your own ratings"
   ]
  },
  {
   "cell_type": "markdown",
   "id": "scheduled-september",
   "metadata": {},
   "source": [
    "Now let's add our own ratings to some randomly picked movies. Suppose we give a 4 star to the first movie, a 2 star to the 98th movie, add so on. Here is the code:"
   ]
  },
  {
   "cell_type": "code",
   "execution_count": 21,
   "id": "suburban-relaxation",
   "metadata": {},
   "outputs": [],
   "source": [
    "n_m = Y.shape[0]\n",
    "my_ratings = np.zeros(n_m)\n",
    "my_ratings[0] = 4\n",
    "my_ratings[97] = 2\n",
    "my_ratings[6] = 3\n",
    "my_ratings[11] = 5\n",
    "my_ratings[53] = 4\n",
    "my_ratings[63] = 5\n",
    "my_ratings[65] = 3\n",
    "my_ratings[68] = 5\n",
    "my_ratings[182] = 4\n",
    "my_ratings[225] = 5\n",
    "my_ratings[354] = 5"
   ]
  },
  {
   "cell_type": "markdown",
   "id": "warming-maintenance",
   "metadata": {},
   "source": [
    "We can see what the movie names are by load the 'movie_ids.txt' file:"
   ]
  },
  {
   "cell_type": "code",
   "execution_count": 22,
   "id": "fuzzy-eclipse",
   "metadata": {},
   "outputs": [],
   "source": [
    "with open('movie_ids.txt', encoding=\"ISO-8859-1\") as f:\n",
    "    movies = f.readlines()"
   ]
  },
  {
   "cell_type": "code",
   "execution_count": 23,
   "id": "constitutional-audit",
   "metadata": {},
   "outputs": [
    {
     "name": "stdout",
     "output_type": "stream",
     "text": [
      "1 Toy Story (1995)\n",
      "\n",
      "7 Twelve Monkeys (1995)\n",
      "\n"
     ]
    }
   ],
   "source": [
    "# See the information of the first and 7th movies:\n",
    "print(movies[0])\n",
    "print(movies[6])"
   ]
  },
  {
   "cell_type": "markdown",
   "id": "outstanding-cylinder",
   "metadata": {},
   "source": [
    "\\textbf{Part 6a (5 pts)}: Print out (with a for loop) a summary of what you just rated so that it looks like:\n",
    "\n",
    "Rated  4.0  for  Toy Story (1995)\n",
    "\n",
    "Rated  3.0  for  Twelve Monkeys (1995)\n",
    "\n",
    "Rated  5.0  for  Usual Suspects, The (1995)\n",
    "\n",
    "Rated  4.0  for  Outbreak (1995)\n",
    "\n",
    "Rated  5.0  for  Shawshank Redemption, The (1994)\n",
    "\n",
    "Rated  3.0  for  While You Were Sleeping (1995)\n",
    "\n",
    "Rated  5.0  for  Forrest Gump (1994)\n",
    "\n",
    "Rated  2.0  for  Silence of the Lambs, The (1991)\n",
    "\n",
    "Rated  4.0  for  Alien (1979)\n",
    "\n",
    "Rated  5.0  for  Die Hard 2 (1990)\n",
    "\n",
    "Rated  5.0  for  Sphere (1998)"
   ]
  },
  {
   "cell_type": "code",
   "execution_count": 24,
   "id": "919166bc",
   "metadata": {},
   "outputs": [
    {
     "name": "stdout",
     "output_type": "stream",
     "text": [
      "Rated 4.0 for Toy Story (1995)\n",
      "\n",
      "Rated 3.0 for Twelve Monkeys (1995)\n",
      "\n",
      "Rated 5.0 for Usual Suspects, The (1995)\n",
      "\n",
      "Rated 4.0 for Outbreak (1995)\n",
      "\n",
      "Rated 5.0 for Shawshank Redemption, The (1994)\n",
      "\n",
      "Rated 3.0 for While You Were Sleeping (1995)\n",
      "\n",
      "Rated 5.0 for Forrest Gump (1994)\n",
      "\n",
      "Rated 2.0 for Silence of the Lambs, The (1991)\n",
      "\n",
      "Rated 4.0 for Alien (1979)\n",
      "\n",
      "Rated 5.0 for Die Hard 2 (1990)\n",
      "\n",
      "Rated 5.0 for Sphere (1998)\n",
      "\n"
     ]
    }
   ],
   "source": [
    "for i in range(N_movies):\n",
    "    if my_ratings[i] != 0:\n",
    "        temp = ' '.join(movies[i].split(' ')[1:])\n",
    "        print(f'Rated {my_ratings[i]} for {temp}')"
   ]
  },
  {
   "cell_type": "markdown",
   "id": "welsh-nothing",
   "metadata": {},
   "source": [
    "\\textbf{Part 6b (5 pts)}: Concatenate your ratings to the $Y$ matrix (as the last column) and concatenate a column to the $R$ matrix too (still as the last column), so $R$ now recorded  what movies you rated. For example, the first elment in the last column of $R$ should be a 1, because you rated the first movie. You should have only eleven 1's in the last column of R and all the others are 0's. Similar for $Y$, you should have only eleven nonzeros in the last column. Now, both your $Y$ and $R$ matrix has a shape of (1682, 944).\n",
    "\n",
    "Make a scatter plot of the last column of $Y$ and $R$ separately (against the indices 0,1,...933). It helps you check if you added the correct columns to $Y$ and $R$."
   ]
  },
  {
   "cell_type": "code",
   "execution_count": 25,
   "id": "d26ae80c",
   "metadata": {},
   "outputs": [],
   "source": [
    "Y_1 = np.concatenate((Y, my_ratings.reshape(-1,1)), axis = 1)\n",
    "R_1 = np.concatenate((R, (my_ratings != 0).reshape(-1,1)), axis = 1)"
   ]
  },
  {
   "cell_type": "code",
   "execution_count": 26,
   "id": "6049108a",
   "metadata": {},
   "outputs": [
    {
     "data": {
      "image/png": "[encoded data removed]",
      "text/plain": [
       "<Figure size 1008x432 with 2 Axes>"
      ]
     },
     "metadata": {
      "needs_background": "light"
     },
     "output_type": "display_data"
    }
   ],
   "source": [
    "plt.figure(figsize=(14,6))\n",
    "plt.subplot(1,2,1)\n",
    "plt.scatter(range(N_movies), Y_1[:,-1])\n",
    "plt.xlabel('movie index')\n",
    "plt.ylabel('movie rating')\n",
    "plt.subplot(1,2,2)\n",
    "plt.scatter(range(N_movies), R_1[:,-1])\n",
    "plt.xlabel('movie index')\n",
    "plt.ylabel('rated by us')\n",
    "plt.show()"
   ]
  },
  {
   "cell_type": "markdown",
   "id": "human-monroe",
   "metadata": {},
   "source": [
    "## Part 7--Preprocessing the data: mean-normalize $Y$\n",
    "\n",
    "We are very close to training the model on the entire data: $Y$ and $R$! One more step before that is to preprocess the rating data $Y$. We will perform the mean-normalization for $Y$: for each row of $Y$, find the row mean and subtract it from every nonzero number of the row. For example, if a row is $[3, 4, 5, 0]$, the row mean is (3+4+5)/3 = 4 (not counting 0), and mean-normalizing the row will give us $[-1, 0, 1, 0]$ (again 0 is not touched).\n",
    "\n",
    "You have found the row mean in Part 1 for the first row, so it should be straightforward to find the row means for all rows. Then the mean-normalization should be easier. \n",
    "\n",
    "Doing this makes more sense for the users who did not provide any ratings. For a user who did not make any ratings, the model based on the mean-normalized data will use the mean of all the other users' ratings to an movie as the prediction for the user on the movie, while the model based on the original data will use 0.\n",
    "\n",
    "\\textbf{Part 7 (10 pts)}: A function template is provided below for performing mean-normalization. Complete the function, use np.sum to check the row sums after you get the mean-normalized $Y$ to see if you get all 0's (or very small numbers)."
   ]
  },
  {
   "cell_type": "code",
   "execution_count": 27,
   "id": "moved-latvia",
   "metadata": {},
   "outputs": [],
   "source": [
    "def mean_normalize(Y, R):\n",
    "    \"\"\"\n",
    "    Perform mean-normalization for Y\n",
    "    Input:\n",
    "    Y: 2D numpy array of shape (1682, 944), the original ratings (with the newly \n",
    "       added ratings by you)\n",
    "    R: 2D numpy array of shape (1682, 944), the indicator matrix. NOTE that you may not need\n",
    "       to use R to mean-normalize Y. If you don't use it, that's fine too.\n",
    "    Return:\n",
    "    Y_mean: 1d array of shape (num_movies=1682), the row means of Y\n",
    "    Y_normalized: 2d array of the same shape as Y, the mean-normalized Y.    \n",
    "    \"\"\"\n",
    "    \n",
    "    # make a copy of Y to prevent you directly changing Y, which will change the original data.\n",
    "    # Do not change the original R either in this function\n",
    "    Y_normalized = Y.copy()\n",
    "    # Now complete the function\n",
    "    Y_mean = np.mean(Y_normalized, axis=1, where=(Y_normalized!=0)).reshape(-1,1)\n",
    "    Y_normalized = np.subtract(Y_normalized, Y_mean, where = (Y_normalized!=0))    \n",
    "    \n",
    "    return Y_mean, Y_normalized"
   ]
  },
  {
   "cell_type": "code",
   "execution_count": 28,
   "id": "e925a7f1",
   "metadata": {},
   "outputs": [],
   "source": [
    "Y_mean, Y_normalized = mean_normalize(Y_1, R_1)"
   ]
  },
  {
   "cell_type": "code",
   "execution_count": 29,
   "id": "c2761209",
   "metadata": {},
   "outputs": [
    {
     "data": {
      "text/plain": [
       "array([-2.35367281e-14, -8.88178420e-16,  1.06581410e-14, ...,\n",
       "        0.00000000e+00,  0.00000000e+00,  0.00000000e+00])"
      ]
     },
     "execution_count": 29,
     "metadata": {},
     "output_type": "execute_result"
    }
   ],
   "source": [
    "np.sum(Y_normalized, axis = 1)"
   ]
  },
  {
   "cell_type": "markdown",
   "id": "catholic-preparation",
   "metadata": {},
   "source": [
    "## Part 8--Train the model\n",
    "\n",
    "Now we are fully ready to train the model. We can well use a familiar gradient descent solver; however, we will try a new solver: scipy.optimize.fmin_cg (https://docs.scipy.org/doc/scipy/reference/generated/scipy.optimize.fmin_cg.html), which is a conjugate gradient optimizer. \n",
    "\n",
    "We first set the correct parameters, and initialize $X$ and $\\Theta$ with the following code. Note that here we use Gaussian (normal) random numbers to initialize the values of $X$ and $\\Theta$. We set the seed of the random number generator to 10 so everyone should get the same result. Then we put all the values in $X$ and $\\Theta$ in a 1D array as we did before, so we have the initial guess. We will let the conjugate gradient optimizer learn the values of $X$ and $\\Theta$. We use a $\\lambda$ of $10$."
   ]
  },
  {
   "cell_type": "code",
   "execution_count": 30,
   "id": "healthy-heading",
   "metadata": {},
   "outputs": [],
   "source": [
    "# Set the correct parameters (constant values)\n",
    "num_users = Y_normalized.shape[1]\n",
    "num_movies = Y_normalized.shape[0]\n",
    "num_features = 10\n",
    "# initial values of X and Theta\n",
    "np.random.seed(10)\n",
    "X = np.random.normal(size=(num_movies, num_features))\n",
    "Theta = np.random.normal(size=(num_users, num_features))\n",
    "initial_guess = np.concatenate([X.flatten(), Theta.flatten()])\n",
    "la = 10"
   ]
  },
  {
   "cell_type": "markdown",
   "id": "detailed-universe",
   "metadata": {},
   "source": [
    "\\textbf{Part 8a (5 pts)} Find the initial cost function value based on the initial guess by calling the cofiCostFunc_Regularized function. Report the initial cost, which should be around $669101$. If you got the result, great!"
   ]
  },
  {
   "cell_type": "code",
   "execution_count": 31,
   "id": "bff55fd7",
   "metadata": {},
   "outputs": [
    {
     "data": {
      "text/plain": [
       "669101.3614292007"
      ]
     },
     "execution_count": 31,
     "metadata": {},
     "output_type": "execute_result"
    }
   ],
   "source": [
    "cofiCostFunc_Regularized(initial_guess, Y_normalized, R_1, \n",
    "                         num_users, num_movies, num_features, la)"
   ]
  },
  {
   "cell_type": "markdown",
   "id": "frank-inspiration",
   "metadata": {},
   "source": [
    "\\textbf{Part 8b (5pts)} Run the fmin_cg optimizer by telling the function about the cost function, initial guess, gradient function, the rest of the parameters needed to be provided to the cost function and gradient function, as follows. You should get a minimized cost function value of around $38951$, which is much smaller than the original cost. The optimal parameter values are now stored in result."
   ]
  },
  {
   "cell_type": "code",
   "execution_count": 32,
   "id": "organizational-bottle",
   "metadata": {},
   "outputs": [
    {
     "name": "stdout",
     "output_type": "stream",
     "text": [
      "Optimization terminated successfully.\n",
      "         Current function value: 38951.847560\n",
      "         Iterations: 410\n",
      "         Function evaluations: 625\n",
      "         Gradient evaluations: 625\n"
     ]
    }
   ],
   "source": [
    "# Start training\n",
    "result = fmin_cg(cofiCostFunc_Regularized, initial_guess, \n",
    "                 cofiGradientFunc_Regularized, \n",
    "                 args=(Y_normalized, R_1, num_users, num_movies, num_features, la))"
   ]
  },
  {
   "cell_type": "markdown",
   "id": "incoming-drinking",
   "metadata": {},
   "source": [
    "## Part 9--Make movie recommendations to yourself! \n",
    "\n",
    "Note the values of the matrices $X$ and $\\Theta$ are stored in the 'result' variable. The first num_movies*num_features values of 'result' are the entries of $X$; the rest of the values are the entries of $\\Theta$. Perform the following steps:\n",
    "\n",
    "1. Obtain the $X$ and $\\Theta$ matrices\n",
    "\n",
    "2. The predictions for all users and all movies are given by $P= X\\cdot \\Theta^T$, the product of $X$ and the transpose of $\\Theta$. Note that the prediction matrix $P$ is of shape (num_movies by num_users), where the (i,j) entry of P represents the prediction of the rating to movie i by user j.\n",
    "\n",
    "3. Now you are interested in knowning what the predicted ratings to all the movies are for you. So you only need the last column (which is related to you) of $P$. Extract the last column of $P$, and we call it p_user. We also need to add back the Y_mean vector to p_user; otherwise, the predicted ratings are mean-normalized. After you add Y_mean back, now p_user will be in the 1 to 5 range.\n",
    "\n",
    "4. Now find the top 20 movies based on the 20 largest values of p_user. Those will be the movies to be recommended to you! Print out the 20 movies along with the predicted ratings in p_user, something like: \n",
    "\n",
    "Recommending movie  Schindler's List (1993)  based on rating  4.36\n",
    "\n",
    "and so on.\n",
    "\n",
    "The movie with the largest rating should be printed out first. np.argmax will help again! (\\textbf{15 pts for Part 9})"
   ]
  },
  {
   "cell_type": "code",
   "execution_count": 33,
   "id": "467e4f15",
   "metadata": {},
   "outputs": [],
   "source": [
    "X = result[:num_features * num_movies].reshape((num_movies, num_features))\n",
    "Theta = result[num_features * num_movies :].reshape((num_users, num_features))"
   ]
  },
  {
   "cell_type": "code",
   "execution_count": 34,
   "id": "7b2285c5",
   "metadata": {},
   "outputs": [],
   "source": [
    "P = np.dot(X, Theta.T)"
   ]
  },
  {
   "cell_type": "code",
   "execution_count": 35,
   "id": "5370ea64",
   "metadata": {},
   "outputs": [],
   "source": [
    "p_user = (P[:,-1].reshape(-1,1) + Y_mean).flatten()"
   ]
  },
  {
   "cell_type": "code",
   "execution_count": 36,
   "id": "0b73187d",
   "metadata": {},
   "outputs": [
    {
     "name": "stdout",
     "output_type": "stream",
     "text": [
      "Recommending movie Star Kid (1997)\n",
      " based on rating 5.00\n",
      "Recommending movie Aiqing wansui (1994)\n",
      " based on rating 5.00\n",
      "Recommending movie Saint of Fort Washington, The (1993)\n",
      " based on rating 5.00\n",
      "Recommending movie Marlene Dietrich: Shadow and Light (1996) \n",
      " based on rating 5.00\n",
      "Recommending movie They Made Me a Criminal (1939)\n",
      " based on rating 5.00\n",
      "Recommending movie Prefontaine (1997)\n",
      " based on rating 5.00\n",
      "Recommending movie Santa with Muscles (1996)\n",
      " based on rating 5.00\n",
      "Recommending movie Great Day in Harlem, A (1994)\n",
      " based on rating 5.00\n",
      "Recommending movie Entertaining Angels: The Dorothy Day Story (1996)\n",
      " based on rating 5.00\n",
      "Recommending movie Someone Else's America (1995)\n",
      " based on rating 5.00\n",
      "Recommending movie Pather Panchali (1955)\n",
      " based on rating 4.64\n",
      "Recommending movie Star Wars (1977)\n",
      " based on rating 4.63\n",
      "Recommending movie Shawshank Redemption, The (1994)\n",
      " based on rating 4.55\n",
      "Recommending movie Maya Lin: A Strong Clear Vision (1994)\n",
      " based on rating 4.52\n",
      "Recommending movie Anna (1996)\n",
      " based on rating 4.50\n",
      "Recommending movie Wrong Trousers, The (1993)\n",
      " based on rating 4.50\n",
      "Recommending movie Some Mother's Son (1996)\n",
      " based on rating 4.50\n",
      "Recommending movie Everest (1998)\n",
      " based on rating 4.49\n",
      "Recommending movie Schindler's List (1993)\n",
      " based on rating 4.49\n",
      "Recommending movie Raiders of the Lost Ark (1981)\n",
      " based on rating 4.48\n"
     ]
    }
   ],
   "source": [
    "ind = np.argsort(p_user)\n",
    "for i in reversed(ind[-20:]):\n",
    "    temp = ' '.join(movies[i].split(' ')[1:])\n",
    "    print(f'Recommending movie {temp} based on rating {p_user[i]:.2f}')"
   ]
  },
  {
   "cell_type": "markdown",
   "id": "liberal-volunteer",
   "metadata": {},
   "source": [
    "## Side note\n",
    "We can now recommend movies for any users! We should actually recommend the movies a user did not rate. The printed list above has some movies you rated. But that's OK. You now know how to build a recommender system with the collaborative filtering algorithm. Congratulations!\n",
    "\n",
    "The method is called matrix factorization, because it is similar to finding the matrix factorization of $Y$ in the form of $X\\cdot\\Theta^T$."
   ]
  },
  {
   "cell_type": "markdown",
   "id": "uniform-vietnamese",
   "metadata": {},
   "source": [
    "## Part 10 User-User Collaborative Filtering by K-Nearest Neighbors "
   ]
  },
  {
   "cell_type": "markdown",
   "id": "forbidden-enterprise",
   "metadata": {},
   "source": [
    "You have done a lot for the project and I would not let you spend much time on this one! The goal is to understand the idea of another collaborative filtering algorithm and run the codes I wrote! \n",
    "\n",
    "The algorithm is called User-User Collaborative Filtering. The idea is: suppose you did not rate the 5th movie, but a lot of many other users did. Then we would like to predict your rating to the 5th movie based on the ratings to the movie given by say 10 other users who are most similar to you. For example, we can use the average of the ratings given by 10 other most similar users. To measure the similarity of two users, we usually use the cosine similarity (distance). The cosine similarity of the $i$th column of $Y$ and the $j$th column of $Y$ (after centering) would  give us the similarity of the $i$th user and the $j$th user. So this is actually a K-nearest neighbor problem.\n",
    "\n",
    "Here is the code for the implentation of the user-user collaborative filtering:"
   ]
  },
  {
   "cell_type": "code",
   "execution_count": 37,
   "id": "blond-imperial",
   "metadata": {},
   "outputs": [],
   "source": [
    "def KNNCofi(K, Y, R, movie_n, Y_col_mean):\n",
    "    \"\"\"\n",
    "    Find the K nearest neighbors of the user with ratings of the movie_n th movie \n",
    "    \"\"\"\n",
    "    data = Y[:, R[movie_n,:].astype(bool)]   \n",
    "    if data.shape[1] >= K:\n",
    "        knn = NearestNeighbors(metric='cosine', algorithm='brute', \n",
    "                               n_neighbors=K, n_jobs=-1)\n",
    "    else:\n",
    "        knn = NearestNeighbors(metric='cosine', algorithm='brute', \n",
    "                               n_neighbors=data.shape[1], n_jobs=-1)\n",
    "    knn.fit(data.T)\n",
    "    neigh_dist, neigh_ind = knn.kneighbors(np.reshape(Y[:, -1], (1, num_movies)))\n",
    "    # rating_pred = np.dot(neigh_dist[0,:], data[movie_n, neigh_ind[0,:]])/(np.sum(neigh_dist[0,:]))\n",
    "    rating_pred = np.mean(data[movie_n, neigh_ind[0,:]]+Y_col_mean[R[movie_n,:].astype(bool)][neigh_ind[0,:]])\n",
    "    return rating_pred\n",
    "\n",
    "def UserUserCofi(Y, R, K=9):\n",
    "    \"\"\"\n",
    "    Y: 2D numpy array of shape (1682, 944), the original ratings (with the newly \n",
    "       added ratings by you)\n",
    "    R: 2D numpy array of shape (1682, 944), the indicator matrix. NOTE that you may not need\n",
    "       to use R to mean-normalize Y. If you don't use it, that's fine too.\n",
    "    K: integer, specify the how many nearest neighbors to use\n",
    "    Return:\n",
    "    ratings_pred: 1D array of size num_movies, the predicted ratings for all \n",
    "                the movie the user did not rate. For the movies, the user has\n",
    "                predicted, the value in ratings_pred will be zero\n",
    "    \"\"\"\n",
    "    Y_col_normalized = Y.copy()\n",
    "    Y_col_mean = np.zeros(Y.shape[1])\n",
    "    for i in range(Y.shape[1]):\n",
    "        Y_col_mean[i] = np.mean(Y[R[:, i].astype(bool), i])\n",
    "        Y_col_normalized[R[:, i].astype(bool), i] = Y[R[:, i].astype(bool), i] - Y_col_mean[i]\n",
    "    \n",
    "    ratings_pred = np.zeros(Y.shape[0])\n",
    "    for i in range(Y.shape[0]):\n",
    "        if (R[i,-1] == 0):\n",
    "            ratings_pred[i] = KNNCofi(K, Y_col_normalized, R, i, Y_col_mean)\n",
    "    return ratings_pred"
   ]
  },
  {
   "cell_type": "markdown",
   "id": "related-demand",
   "metadata": {},
   "source": [
    "Just call UserUserCofi with the default K value to obtain the predicted ratings and print out the top 20 movies, similar to what you did in Part 9. Check if there are common movies (you don't need to answer this). \\textbf{5 pts for Part 10}. "
   ]
  },
  {
   "cell_type": "code",
   "execution_count": 38,
   "id": "99a3d27f",
   "metadata": {},
   "outputs": [],
   "source": [
    "p_user_1 = UserUserCofi(Y_1, R_1)"
   ]
  },
  {
   "cell_type": "code",
   "execution_count": 39,
   "id": "0e7b433d",
   "metadata": {},
   "outputs": [
    {
     "name": "stdout",
     "output_type": "stream",
     "text": [
      "Recommending movie Saint of Fort Washington, The (1993)\n",
      " based on rating 5.00\n",
      "Recommending movie They Made Me a Criminal (1939)\n",
      " based on rating 5.00\n",
      "Recommending movie Entertaining Angels: The Dorothy Day Story (1996)\n",
      " based on rating 5.00\n",
      "Recommending movie Marlene Dietrich: Shadow and Light (1996) \n",
      " based on rating 5.00\n",
      "Recommending movie Great Day in Harlem, A (1994)\n",
      " based on rating 5.00\n",
      "Recommending movie Prefontaine (1997)\n",
      " based on rating 5.00\n",
      "Recommending movie Aiqing wansui (1994)\n",
      " based on rating 5.00\n",
      "Recommending movie Star Kid (1997)\n",
      " based on rating 5.00\n",
      "Recommending movie Santa with Muscles (1996)\n",
      " based on rating 5.00\n",
      "Recommending movie Someone Else's America (1995)\n",
      " based on rating 5.00\n",
      "Recommending movie Close Shave, A (1995)\n",
      " based on rating 4.89\n",
      "Recommending movie Star Wars (1977)\n",
      " based on rating 4.78\n",
      "Recommending movie Some Folks Call It a Sling Blade (1993)\n",
      " based on rating 4.67\n",
      "Recommending movie As Good As It Gets (1997)\n",
      " based on rating 4.67\n",
      "Recommending movie Three Colors: Blue (1993)\n",
      " based on rating 4.67\n",
      "Recommending movie Pather Panchali (1955)\n",
      " based on rating 4.62\n",
      "Recommending movie 12 Angry Men (1957)\n",
      " based on rating 4.56\n",
      "Recommending movie Searching for Bobby Fischer (1993)\n",
      " based on rating 4.56\n",
      "Recommending movie M (1931)\n",
      " based on rating 4.56\n",
      "Recommending movie Big Sleep, The (1946)\n",
      " based on rating 4.56\n"
     ]
    }
   ],
   "source": [
    "ind = np.argsort(p_user_1)\n",
    "for i in reversed(ind[-20:]):\n",
    "    temp = ' '.join(movies[i].split(' ')[1:])\n",
    "    print(f'Recommending movie {temp} based on rating {p_user_1[i]:.2f}')"
   ]
  },
  {
   "cell_type": "markdown",
   "id": "progressive-regulation",
   "metadata": {},
   "source": [
    "## Ending\n",
    "\n",
    "I know it has been quite a journey to work on this final project, but I am sure you have learned some techniques that even Netflix, Amazon, etc. are using (of course more complex versions). Best luck to you as you move onto the next stage in your machine learning journey!"
   ]
  }
 ],
 "metadata": {
  "kernelspec": {
   "display_name": "Python 3",
   "language": "python",
   "name": "python3"
  },
  "language_info": {
   "codemirror_mode": {
    "name": "ipython",
    "version": 3
   },
   "file_extension": ".py",
   "mimetype": "text/x-python",
   "name": "python",
   "nbconvert_exporter": "python",
   "pygments_lexer": "ipython3",
   "version": "3.8.5"
  },
  "latex_envs": {
   "LaTeX_envs_menu_present": true,
   "autoclose": false,
   "autocomplete": true,
   "bibliofile": "biblio.bib",
   "cite_by": "apalike",
   "current_citInitial": 1,
   "eqLabelWithNumbers": true,
   "eqNumInitial": 1,
   "hotkeys": {
    "equation": "Ctrl-E",
    "itemize": "Ctrl-I"
   },
   "labels_anchors": false,
   "latex_user_defs": false,
   "report_style_numbering": false,
   "user_envs_cfg": false
  },
  "varInspector": {
   "cols": {
    "lenName": 16,
    "lenType": 16,
    "lenVar": 40
   },
   "kernels_config": {
    "python": {
     "delete_cmd_postfix": "",
     "delete_cmd_prefix": "del ",
     "library": "var_list.py",
     "varRefreshCmd": "print(var_dic_list())"
    },
    "r": {
     "delete_cmd_postfix": ") ",
     "delete_cmd_prefix": "rm(",
     "library": "var_list.r",
     "varRefreshCmd": "cat(var_dic_list()) "
    }
   },
   "types_to_exclude": [
    "module",
    "function",
    "builtin_function_or_method",
    "instance",
    "_Feature"
   ],
   "window_display": false
  }
 },
 "nbformat": 4,
 "nbformat_minor": 5
}
