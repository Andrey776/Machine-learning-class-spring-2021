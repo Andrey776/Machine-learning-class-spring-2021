{
 "cells": [
  {
   "cell_type": "code",
   "execution_count": 1,
   "metadata": {},
   "outputs": [],
   "source": [
    "import re\n",
    "from nltk.stem import PorterStemmer \n",
    "import pandas as pd\n",
    "import numpy as np"
   ]
  },
  {
   "cell_type": "markdown",
   "metadata": {},
   "source": [
    "# Midterm Project-Building a Spam Filter"
   ]
  },
  {
   "cell_type": "markdown",
   "metadata": {},
   "source": [
    "The purpose of this project is to train a classifier to detect email spams (spam $y=1$, non-spam $y=0$).\n",
    "\n",
    "First, we need to change any text email to numerical values (a feature vector $\\boldsymbol{x}\\in\\mathbb{R}^n$). We walk through the steps of constructing such a vector from an email."
   ]
  },
  {
   "cell_type": "markdown",
   "metadata": {},
   "source": [
    "## Preprocessing Emails (20 pts)\n",
    "\n",
    "The file named \"email1.txt\" contains an example email that contains words, numbers, an email address, a URL, special letters (e.g. the dollar sign). Since many emails may contain numbers, email addresses, URLs, special letters, it is common practice to \"normalize\" these values, so that all email addresses, URLs, etc. are treated the same. For example, we can replace any URL with a special string \"httpaddress\" to indicate a URL exists. The purpose is to let the spam classifier know a URL is present, instead of what the URL is. Following this idea, we will implement the following steps for any raw email:\n",
    "\n",
    "1. Lower-casing: convert all letters to lower case\n",
    "2. Normalizing URLs: All URLs are replaced with the text \"httpaddr\".\n",
    "3. Normalizing email addresses: Replace all email addresses with the text \"emailaddr\"\n",
    "4. Normalizing numbers: Replace all numbers with the text \"number\".\n",
    "5. Normalizing Dollars: Replace all dollar signs $\\$$ with the text \"dollar\".\n",
    "6. Stemming words: For example, \"replacing\", \"replaces\", \"replaced\" are all replaced with \"replace\"\n",
    "7. Removing non-words: Remove non-words and punctuations. All white spaces (tabs, newlines ('\\n'), spaces) should be trimmed to a single space character."
   ]
  },
  {
   "cell_type": "markdown",
   "metadata": {},
   "source": [
    "To achieve all the 7 steps, we look at an example. Read in \"email1.txt\" as a single string:"
   ]
  },
  {
   "cell_type": "code",
   "execution_count": 2,
   "metadata": {},
   "outputs": [
    {
     "name": "stdout",
     "output_type": "stream",
     "text": [
      "/Users/AM/Documents/_CU Masters/2021 spr Python ML_5027/ML_py_code/hw_data\n"
     ]
    },
    {
     "data": {
      "text/plain": [
       "\"> Anyone knows how much it costs to host a web portal ?\\n>\\nWell, it depends on how many visitors you're expecting.\\nThis can be anywhere from less than 10 bucks a month to a couple of $100. \\nYou should checkout http://www.rackspace.com/ or perhaps Amazon EC2 \\nif youre running something big..\\n\\nTo unsubscribe yourself from this mailing list, send an email to:\\ngroupname-unsubscribe@egroups.com\\n\\n\""
      ]
     },
     "execution_count": 2,
     "metadata": {},
     "output_type": "execute_result"
    }
   ],
   "source": [
    "%cd /Users/AM/Documents/_CU Masters/2021 spr Python ML_5027/ML_py_code/hw_data\n",
    "email = open('email1.txt', 'r').read()\n",
    "email"
   ]
  },
  {
   "cell_type": "markdown",
   "metadata": {},
   "source": [
    "Here are the codes to realize all the steps above in Python. Suppose we have a string variable named str1.\n",
    "\n",
    "1. str1.lower() converts all uppercase characters in str1 into lowercase characters (note that str1 itself does not change.)\n",
    "2. Replace URLs by: re.sub(r'(http|https)://[^\\s]*', 'httpaddr', str1)\n",
    "3. Replace email addresses by: re.sub('[^\\s]+@[^\\s]+', 'emailaddr', str1);\n",
    "4. Replace all numbers by: re.sub('[0-9]+', 'number', str1)\n",
    "5. Replace dollar sign by: re.sub('[$]+', 'dollar', str1)\n",
    "6. Word Stemming: first build a PorterStemmer class by: ps = PorterStemmer(), then stemming the words by: \n",
    "\n",
    "str1 = \" \".join([ps.stem(word) for word in str1.split()])\n",
    "\n",
    "7. Remove non-words and punctuations by: "
   ]
  },
  {
   "cell_type": "raw",
   "metadata": {},
   "source": [
    "re.sub(r'[\\'\\\"@$%/#.:,&*+=?!\\[\\](){}>_<]', '', str1). "
   ]
  },
  {
   "cell_type": "markdown",
   "metadata": {},
   "source": [
    "Trim white spaces to a single space character by: re.sub(r'\\s+',' ', str1)\n",
    "\n",
    "Finally strip the string (remove spaces at the beginning and at the end of the string) by:\n",
    "str1 = str1.strip()"
   ]
  },
  {
   "cell_type": "markdown",
   "metadata": {},
   "source": [
    "Try each of this steps on the email string, and see if it works (you don't need to show the process). If everything works, then put everything in a function of the following form: "
   ]
  },
  {
   "cell_type": "code",
   "execution_count": 3,
   "metadata": {},
   "outputs": [
    {
     "data": {
      "text/plain": [
       "\"> Anyone knows how much it costs to host a web portal ?\\n>\\nWell, it depends on how many visitors you're expecting.\\nThis can be anywhere from less than 10 bucks a month to a couple of $100. \\nYou should checkout http://www.rackspace.com/ or perhaps Amazon EC2 \\nif youre running something big..\\n\\nTo unsubscribe yourself from this mailing list, send an email to:\\ngroupname-unsubscribe@egroups.com\\n\\n\""
      ]
     },
     "execution_count": 3,
     "metadata": {},
     "output_type": "execute_result"
    }
   ],
   "source": [
    "email"
   ]
  },
  {
   "cell_type": "code",
   "execution_count": 4,
   "metadata": {},
   "outputs": [
    {
     "name": "stdout",
     "output_type": "stream",
     "text": [
      "anyon know how much it cost to host a web portal well it depend on how mani visitor your expect thi can be anywher from less than number buck a month to a coupl of dollarnumb you should checkout httpaddr or perhap amazon ecnumb if your run someth big to unsubscrib yourself from thi mail list send an email to emailaddr\n"
     ]
    }
   ],
   "source": [
    "def ProcessEmail(emailstring):\n",
    "    \"\"\"\n",
    "    Process the 7 steps above for an email string\n",
    "    input: emailstring: the string that contains the email content. type: string\n",
    "    return: a string that is the processed email content\n",
    "    \"\"\"\n",
    "    str1 = emailstring.lower()\n",
    "    str1 = re.sub(r'(http|https)://[^\\s]*', 'httpaddr', str1)\n",
    "    str1 = re.sub('[^\\s]+@[^\\s]+', 'emailaddr', str1)\n",
    "    str1 = re.sub('[0-9]+', 'number', str1)\n",
    "    str1 = re.sub('[$]+', 'dollar', str1)\n",
    "    str1 = re.sub(r'[\\'\\\"@$%/#.:,&*+=?!\\[\\](){}>_<]', '', str1)\n",
    "\n",
    "    ps = PorterStemmer()\n",
    "    str1 = \" \".join([ps.stem(word) for word in str1.split()])\n",
    "    \n",
    "    str1 = re.sub(r'[\\'\\\"@$%/#.:,&*+=?!\\[\\](){}>_<]', '', str1)\n",
    "    str1 = re.sub(r'\\s+',' ', str1)\n",
    "\n",
    "    return(str1)\n",
    "    \n",
    "email_mod = ProcessEmail(email)\n",
    "print(email_mod)"
   ]
  },
  {
   "cell_type": "markdown",
   "metadata": {},
   "source": [
    "Finish the body of the function."
   ]
  },
  {
   "cell_type": "markdown",
   "metadata": {},
   "source": [
    "Run the function ProcessEmail for the email string that was read in earlier. If you get the following content, then congratulations, your code works.\n",
    "\n",
    "anyon know how much it cost to host a web portal well it depend on how mani visitor your expect thi can be anywher from less than number buck a month to a coupl of dollarnumb you should checkout httpaddr or perhap amazon ecnumb if your run someth big to unsubscrib yourself from thi mail list send an email to emailaddr"
   ]
  },
  {
   "cell_type": "code",
   "execution_count": 5,
   "metadata": {},
   "outputs": [
    {
     "data": {
      "text/plain": [
       "True"
      ]
     },
     "execution_count": 5,
     "metadata": {},
     "output_type": "execute_result"
    }
   ],
   "source": [
    "test = 'anyon know how much it cost to host a web portal well it depend on how mani visitor your expect thi can be anywher from less than number buck a month to a coupl of dollarnumb you should checkout httpaddr or perhap amazon ecnumb if your run someth big to unsubscrib yourself from thi mail list send an email to emailaddr'\n",
    "email_mod == test\n"
   ]
  },
  {
   "cell_type": "markdown",
   "metadata": {},
   "source": [
    "## Vocabulary List (25 pts)"
   ]
  },
  {
   "cell_type": "markdown",
   "metadata": {},
   "source": [
    "After the emails are preprocessed, we now have a string that contains a list of words for\n",
    "each email. In the next step, we choose the words we would like to use in our classifier and ignore the rest. Suppose, based on a large number of email samples, we have already chosen the most frequently occuring words as the set of words to be considered, known as the vocabulary list, which is stored in vocab.txt. "
   ]
  },
  {
   "cell_type": "code",
   "execution_count": 6,
   "metadata": {},
   "outputs": [
    {
     "name": "stdout",
     "output_type": "stream",
     "text": [
      "(1899, 2)\n"
     ]
    },
    {
     "data": {
      "text/plain": [
       "index       86\n",
       "word     anyon\n",
       "Name: 85, dtype: object"
      ]
     },
     "execution_count": 6,
     "metadata": {},
     "output_type": "execute_result"
    }
   ],
   "source": [
    "vocab = pd.read_csv('vocab.txt', delim_whitespace=True, names=['index', 'word'])\n",
    "print(vocab.shape)\n",
    "vocab.head(10)\n",
    "vocab.loc[85]\n"
   ]
  },
  {
   "cell_type": "markdown",
   "metadata": {},
   "source": [
    "Each word has an index."
   ]
  },
  {
   "cell_type": "markdown",
   "metadata": {},
   "source": [
    "Given the vocabulary list, we can now map each word in the preprocessed emails into a list of indices, each of which is the index of the word in the vocabulary list. Specifically, in the sample email, the word \"anyon\" can be mapped onto the index 86 in the vocabulary\n",
    "list. If a word is not in the vocabulary, ignore it. Now write a function in the following form:"
   ]
  },
  {
   "cell_type": "code",
   "execution_count": 7,
   "metadata": {},
   "outputs": [],
   "source": [
    "def EmailToIndices(processed_email, vocab_df):\n",
    "    \"\"\"\n",
    "    Turn processed email string to a list of indices\n",
    "    input: processed_email: a string of preprocessed email\n",
    "           vocab_df: the vocabulary data frame\n",
    "    return: a list of integers, which are the indices of the words in the vocabulary list\n",
    "    Hint1: First, you need to turn the email string to a list of words by \n",
    "           processed_email.split(); then for each word check if it is in the vocabulary;\n",
    "           if it is in it, then find the corresponding index and append it to your \n",
    "           index list; otherwise ignore it.\n",
    "    Hint2: To build the list of indices, you can start with an empty list [] and append\n",
    "           indices one by one as you find them using the append function associated with \n",
    "           the list\n",
    "    Hint3: to check if a word, say \"anyon\" appears in the \"word\" column of the vocabulary\n",
    "           you can use \"anyon\" in vocab['word'].values, which will give you a True or\n",
    "           False\n",
    "    \"\"\"\n",
    "    result = []\n",
    "    for w in processed_email.split():\n",
    "        if w in vocab['word'].values:\n",
    "            row_ind = vocab[vocab['word'] == w].index[0]\n",
    "            result.append(vocab.loc[row_ind, 'index'])\n",
    "    return(result)        \n",
    "\n",
    "mail_vector = EmailToIndices(email_mod, vocab) "
   ]
  },
  {
   "cell_type": "markdown",
   "metadata": {},
   "source": [
    "Test your EmailToIndices function on the preprocessed email string obtained earlier. If you get the following list of integers, congratulations again, your code works."
   ]
  },
  {
   "cell_type": "markdown",
   "metadata": {},
   "source": [
    "[86, 916, 794, 1077, 883, 370, 1699, 790, 1822, 1831, 883, 431, 1171, 794, 1002, 1895, 592, 1676, 238, 162, 89, 688, 945, 1663, 1120, 1062, 1699, 375, 1162, 479, 1893, 1510, 799, 1182, 1237, 810, 1895, 1440, 1547, 181, 1699, 1758, 1896, 688, 1676, 992, 961, 1477, 71, 530, 1699, 531]"
   ]
  },
  {
   "cell_type": "code",
   "execution_count": 8,
   "metadata": {},
   "outputs": [
    {
     "data": {
      "text/plain": [
       "True"
      ]
     },
     "execution_count": 8,
     "metadata": {},
     "output_type": "execute_result"
    }
   ],
   "source": [
    "test_vector = [86, 916, 794, 1077, 883, 370, 1699, 790, 1822, 1831, 883, 431, 1171, 794, 1002, 1895, 592, 1676, 238, 162, 89, 688, 945, 1663, 1120, 1062, 1699, 375, 1162, 479, 1893, 1510, 799, 1182, 1237, 810, 1895, 1440, 1547, 181, 1699, 1758, 1896, 688, 1676, 992, 961, 1477, 71, 530, 1699, 531]\n",
    "mail_vector == test_vector\n"
   ]
  },
  {
   "cell_type": "markdown",
   "metadata": {},
   "source": [
    "## Extracting Features from Emails (25 pts)"
   ]
  },
  {
   "cell_type": "markdown",
   "metadata": {},
   "source": [
    "Now we will convert each email into a vector in $R^n$ as the features, where $n$ is the number of words in the vocabulary list. Specifically, the feature $x_i=0$ or $1$ for an email depending on whether the $i$-th word in the vocabulary list occurs in the email. That is, $x_i = 1$ if the $i$-th word is in the email and $x_i = 0$ if the i-th word is not present in the email. Write a function that converts a list of indices obtained from the previous function to a feature vector in $R^n$. Follow the following form:"
   ]
  },
  {
   "cell_type": "code",
   "execution_count": 9,
   "metadata": {
    "code_folding": []
   },
   "outputs": [],
   "source": [
    "def FeatureExtraction(indices, vocab_df):\n",
    "    \"\"\"\n",
    "    Convert a list of word indices to a feature vector\n",
    "    input: indices: a list of integer, which are the indices of the words in the email\n",
    "           vocab_df: the vocabulary data frame\n",
    "    return: a one-dimensional numpy array that contains the features. The size of the\n",
    "            array is equal to the number of rows of the vocabulary data frame\n",
    "    PAY ATTENTION: the index in the vocabulary starts with 1, but for numpy array index\n",
    "                   starts from 0\n",
    "\n",
    "    \"\"\"\n",
    "    \n",
    "\n",
    "    result = np.zeros(vocab_df.shape[0], dtype = int)\n",
    "    result[np.array(list(set(indices))) - 1] = 1\n",
    "    \n",
    "    return(result)\n",
    "\n",
    "mail_r_vector = FeatureExtraction(mail_vector, vocab)"
   ]
  },
  {
   "cell_type": "markdown",
   "metadata": {},
   "source": [
    "Run the function on the list of indices obtained from the previous problem to get the feature vector. Report the number of nonzeros in the vector and the size of the vector."
   ]
  },
  {
   "cell_type": "code",
   "execution_count": 10,
   "metadata": {},
   "outputs": [
    {
     "name": "stdout",
     "output_type": "stream",
     "text": [
      "number of nonzeros in the vector: 44\n",
      "the size of the vector: 1899\n"
     ]
    }
   ],
   "source": [
    "mail_r_vector = FeatureExtraction(mail_vector, vocab)\n",
    "print(f'number of nonzeros in the vector: {sum(mail_r_vector)}')\n",
    "print(f'the size of the vector: {mail_r_vector.shape[0]}')"
   ]
  },
  {
   "cell_type": "code",
   "execution_count": 11,
   "metadata": {},
   "outputs": [
    {
     "name": "stdout",
     "output_type": "stream",
     "text": [
      "the firt three words with the smallest ind: [71, 86, 89]\n"
     ]
    },
    {
     "data": {
      "text/html": [
       "<div>\n",
       "<style scoped>\n",
       "    .dataframe tbody tr th:only-of-type {\n",
       "        vertical-align: middle;\n",
       "    }\n",
       "\n",
       "    .dataframe tbody tr th {\n",
       "        vertical-align: top;\n",
       "    }\n",
       "\n",
       "    .dataframe thead th {\n",
       "        text-align: right;\n",
       "    }\n",
       "</style>\n",
       "<table border=\"1\" class=\"dataframe\">\n",
       "  <thead>\n",
       "    <tr style=\"text-align: right;\">\n",
       "      <th></th>\n",
       "      <th>word_index</th>\n",
       "      <th>mail_R_vector</th>\n",
       "    </tr>\n",
       "  </thead>\n",
       "  <tbody>\n",
       "    <tr>\n",
       "      <th>70</th>\n",
       "      <td>71</td>\n",
       "      <td>1</td>\n",
       "    </tr>\n",
       "    <tr>\n",
       "      <th>71</th>\n",
       "      <td>72</td>\n",
       "      <td>0</td>\n",
       "    </tr>\n",
       "    <tr>\n",
       "      <th>72</th>\n",
       "      <td>73</td>\n",
       "      <td>0</td>\n",
       "    </tr>\n",
       "    <tr>\n",
       "      <th>73</th>\n",
       "      <td>74</td>\n",
       "      <td>0</td>\n",
       "    </tr>\n",
       "    <tr>\n",
       "      <th>74</th>\n",
       "      <td>75</td>\n",
       "      <td>0</td>\n",
       "    </tr>\n",
       "    <tr>\n",
       "      <th>75</th>\n",
       "      <td>76</td>\n",
       "      <td>0</td>\n",
       "    </tr>\n",
       "    <tr>\n",
       "      <th>76</th>\n",
       "      <td>77</td>\n",
       "      <td>0</td>\n",
       "    </tr>\n",
       "    <tr>\n",
       "      <th>77</th>\n",
       "      <td>78</td>\n",
       "      <td>0</td>\n",
       "    </tr>\n",
       "    <tr>\n",
       "      <th>78</th>\n",
       "      <td>79</td>\n",
       "      <td>0</td>\n",
       "    </tr>\n",
       "    <tr>\n",
       "      <th>79</th>\n",
       "      <td>80</td>\n",
       "      <td>0</td>\n",
       "    </tr>\n",
       "    <tr>\n",
       "      <th>80</th>\n",
       "      <td>81</td>\n",
       "      <td>0</td>\n",
       "    </tr>\n",
       "    <tr>\n",
       "      <th>81</th>\n",
       "      <td>82</td>\n",
       "      <td>0</td>\n",
       "    </tr>\n",
       "    <tr>\n",
       "      <th>82</th>\n",
       "      <td>83</td>\n",
       "      <td>0</td>\n",
       "    </tr>\n",
       "    <tr>\n",
       "      <th>83</th>\n",
       "      <td>84</td>\n",
       "      <td>0</td>\n",
       "    </tr>\n",
       "    <tr>\n",
       "      <th>84</th>\n",
       "      <td>85</td>\n",
       "      <td>0</td>\n",
       "    </tr>\n",
       "    <tr>\n",
       "      <th>85</th>\n",
       "      <td>86</td>\n",
       "      <td>1</td>\n",
       "    </tr>\n",
       "    <tr>\n",
       "      <th>86</th>\n",
       "      <td>87</td>\n",
       "      <td>0</td>\n",
       "    </tr>\n",
       "    <tr>\n",
       "      <th>87</th>\n",
       "      <td>88</td>\n",
       "      <td>0</td>\n",
       "    </tr>\n",
       "    <tr>\n",
       "      <th>88</th>\n",
       "      <td>89</td>\n",
       "      <td>1</td>\n",
       "    </tr>\n",
       "    <tr>\n",
       "      <th>89</th>\n",
       "      <td>90</td>\n",
       "      <td>0</td>\n",
       "    </tr>\n",
       "  </tbody>\n",
       "</table>\n",
       "</div>"
      ],
      "text/plain": [
       "    word_index  mail_R_vector\n",
       "70          71              1\n",
       "71          72              0\n",
       "72          73              0\n",
       "73          74              0\n",
       "74          75              0\n",
       "75          76              0\n",
       "76          77              0\n",
       "77          78              0\n",
       "78          79              0\n",
       "79          80              0\n",
       "80          81              0\n",
       "81          82              0\n",
       "82          83              0\n",
       "83          84              0\n",
       "84          85              0\n",
       "85          86              1\n",
       "86          87              0\n",
       "87          88              0\n",
       "88          89              1\n",
       "89          90              0"
      ]
     },
     "metadata": {},
     "output_type": "display_data"
    }
   ],
   "source": [
    "#additional double-check for the firt three words with the smallest ind\n",
    "print(f'the firt three words with the smallest ind: {sorted(mail_vector)[:3]}')\n",
    "data = {'word_index':[i for i in range(1, vocab.shape[0]+1)], \n",
    "        'mail_R_vector':mail_r_vector}\n",
    "r = pd.DataFrame(data)\n",
    "display(r.iloc[70:90])"
   ]
  },
  {
   "cell_type": "markdown",
   "metadata": {},
   "source": [
    "## Training SVM for Spam Classification (30 pts)"
   ]
  },
  {
   "cell_type": "markdown",
   "metadata": {},
   "source": [
    "Now suppose we have preprocessed a bunch of emails and manually labled them. Each original email was processed using the ProcessEmail, EmailToIndices, and FeatureExtraction functions in sequence, and converted into a vector in $R^{1899}$. We use the data to train a Linear SVM classifier. The file \"spamTrain.npy\" contains 4000 training examples of spam and non-spam email, while \"spamTest.npy\" contains 1000 test examples. The last column is the target label (spam: y=1, non-spam: y=0). Use np.load(filename) to read in the data.\n",
    "\n",
    "1. For training the linear SVM, consider $C=\\{0.05, 1.0, 2.0\\}$. Set random_state=10, loss='hinge', and all the other parameters are by default. For each model report the accuracy on the test data (LinearSVC has a built in function to calculate accuracy). Also report the best model based on the accuracy values.\n",
    "\n",
    "2. Look at the parameters $\\boldsymbol{w}=\\{w_1,w_2,\\dots,w_n\\}$ of the underlying linear model. Make a plot of the absolute values of $\\boldsymbol{w}$ versus the indices $[0,1,2,...n-1]$. Are some weights $w_i$ significantly larger than the rest of the weights from the graph? If so, the words corresponding to the larger weights are the most predictive of spam. Find those words. (Hint: you need to find the indices (positions) of the 15 largest values in the vector $\\boldsymbol{w}$. The function np.argsort may help. Check the usage of the function. Then use the indices to find the words in the vocabulary data frame."
   ]
  },
  {
   "cell_type": "code",
   "execution_count": 12,
   "metadata": {},
   "outputs": [
    {
     "data": {
      "text/plain": [
       "((4000, 1899), (1000, 1899), (4000,), (1000,))"
      ]
     },
     "execution_count": 12,
     "metadata": {},
     "output_type": "execute_result"
    }
   ],
   "source": [
    "def prepare_data(filename):\n",
    "    '''load data, extracts a label vector and returns a tuple (x,y)'''\n",
    "    file = np.load(filename) \n",
    "    y_file = file[:,-1]\n",
    "    x_file = np.delete(file, -1, 1)\n",
    "    return(x_file, y_file)\n",
    "\n",
    "x_train, y_train = prepare_data('spamTrain.npy') \n",
    "x_test, y_test = prepare_data('spamTest.npy') \n",
    "\n",
    "x_train.shape, x_test.shape, y_train.shape, y_test.shape"
   ]
  },
  {
   "cell_type": "code",
   "execution_count": 13,
   "metadata": {},
   "outputs": [
    {
     "name": "stdout",
     "output_type": "stream",
     "text": [
      "For C=0.05 the mean accuracy by the built in .SCORE method is 0.992\n",
      "For C=1.0 the mean accuracy by the built in .SCORE method is 0.977\n",
      "For C=2.0 the mean accuracy by the built in .SCORE method is 0.974\n"
     ]
    }
   ],
   "source": [
    "from sklearn.svm import LinearSVC\n",
    "#C = [0.0001, 0.001, 0.01, 0.05, 1.0, 2.0, 10.0, 100.0, 1000]\n",
    "C = [0.05, 1.0, 2.0]\n",
    "model = []\n",
    "for c in C:\n",
    "    m = LinearSVC(loss='hinge', random_state=10, C=c)\n",
    "    m.fit(x_train, y_train)\n",
    "    print(f'For C={c} the mean accuracy by the built in .SCORE method is {m.score(x_test, y_test)}')\n",
    "    model.append(m)"
   ]
  },
  {
   "cell_type": "markdown",
   "metadata": {},
   "source": [
    "**The first model (C=0.05) with the largest accuracy is the best.**"
   ]
  },
  {
   "cell_type": "code",
   "execution_count": 14,
   "metadata": {},
   "outputs": [
    {
     "data": {
      "image/png": "[encoded data removed]",
      "text/plain": [
       "<Figure size 1200x500 with 1 Axes>"
      ]
     },
     "metadata": {
      "needs_background": "light"
     },
     "output_type": "display_data"
    }
   ],
   "source": [
    "import matplotlib.pyplot as plt\n",
    "\n",
    "w = model[0].coef_[0].tolist()\n",
    "plt.figure(figsize=(12, 5), dpi=100)\n",
    "plt.plot(w, color='g', label = '$w_i$ vs. index')\n",
    "plt.xlabel('index')\n",
    "plt.xlim([0, len(w)*1.01])\n",
    "plt.ylabel('$w_i$')\n",
    "plt.legend()\n",
    "plt.show()"
   ]
  },
  {
   "cell_type": "code",
   "execution_count": 15,
   "metadata": {},
   "outputs": [
    {
     "data": {
      "text/html": [
       "<div>\n",
       "<style scoped>\n",
       "    .dataframe tbody tr th:only-of-type {\n",
       "        vertical-align: middle;\n",
       "    }\n",
       "\n",
       "    .dataframe tbody tr th {\n",
       "        vertical-align: top;\n",
       "    }\n",
       "\n",
       "    .dataframe thead th {\n",
       "        text-align: right;\n",
       "    }\n",
       "</style>\n",
       "<table border=\"1\" class=\"dataframe\">\n",
       "  <thead>\n",
       "    <tr style=\"text-align: right;\">\n",
       "      <th></th>\n",
       "      <th>index</th>\n",
       "      <th>w</th>\n",
       "      <th>word</th>\n",
       "    </tr>\n",
       "  </thead>\n",
       "  <tbody>\n",
       "    <tr>\n",
       "      <th>297</th>\n",
       "      <td>298</td>\n",
       "      <td>0.429968</td>\n",
       "      <td>click</td>\n",
       "    </tr>\n",
       "    <tr>\n",
       "      <th>1397</th>\n",
       "      <td>1398</td>\n",
       "      <td>0.396316</td>\n",
       "      <td>remov</td>\n",
       "    </tr>\n",
       "    <tr>\n",
       "      <th>1190</th>\n",
       "      <td>1191</td>\n",
       "      <td>0.393486</td>\n",
       "      <td>our</td>\n",
       "    </tr>\n",
       "    <tr>\n",
       "      <th>155</th>\n",
       "      <td>156</td>\n",
       "      <td>0.347056</td>\n",
       "      <td>basenumb</td>\n",
       "    </tr>\n",
       "    <tr>\n",
       "      <th>738</th>\n",
       "      <td>739</td>\n",
       "      <td>0.344055</td>\n",
       "      <td>guarante</td>\n",
       "    </tr>\n",
       "    <tr>\n",
       "      <th>1795</th>\n",
       "      <td>1796</td>\n",
       "      <td>0.308935</td>\n",
       "      <td>visit</td>\n",
       "    </tr>\n",
       "    <tr>\n",
       "      <th>476</th>\n",
       "      <td>477</td>\n",
       "      <td>0.292566</td>\n",
       "      <td>dollar</td>\n",
       "    </tr>\n",
       "    <tr>\n",
       "      <th>1263</th>\n",
       "      <td>1264</td>\n",
       "      <td>0.261105</td>\n",
       "      <td>pleas</td>\n",
       "    </tr>\n",
       "    <tr>\n",
       "      <th>1066</th>\n",
       "      <td>1067</td>\n",
       "      <td>0.240578</td>\n",
       "      <td>most</td>\n",
       "    </tr>\n",
       "    <tr>\n",
       "      <th>554</th>\n",
       "      <td>555</td>\n",
       "      <td>0.230725</td>\n",
       "      <td>enumb</td>\n",
       "    </tr>\n",
       "    <tr>\n",
       "      <th>1892</th>\n",
       "      <td>1893</td>\n",
       "      <td>0.229032</td>\n",
       "      <td>you</td>\n",
       "    </tr>\n",
       "    <tr>\n",
       "      <th>1078</th>\n",
       "      <td>1079</td>\n",
       "      <td>0.226756</td>\n",
       "      <td>multipart</td>\n",
       "    </tr>\n",
       "    <tr>\n",
       "      <th>1851</th>\n",
       "      <td>1852</td>\n",
       "      <td>0.222466</td>\n",
       "      <td>will</td>\n",
       "    </tr>\n",
       "    <tr>\n",
       "      <th>1088</th>\n",
       "      <td>1089</td>\n",
       "      <td>0.221158</td>\n",
       "      <td>nbsp</td>\n",
       "    </tr>\n",
       "    <tr>\n",
       "      <th>791</th>\n",
       "      <td>792</td>\n",
       "      <td>0.209870</td>\n",
       "      <td>hour</td>\n",
       "    </tr>\n",
       "  </tbody>\n",
       "</table>\n",
       "</div>"
      ],
      "text/plain": [
       "      index         w       word\n",
       "297     298  0.429968      click\n",
       "1397   1398  0.396316      remov\n",
       "1190   1191  0.393486        our\n",
       "155     156  0.347056   basenumb\n",
       "738     739  0.344055   guarante\n",
       "1795   1796  0.308935      visit\n",
       "476     477  0.292566     dollar\n",
       "1263   1264  0.261105      pleas\n",
       "1066   1067  0.240578       most\n",
       "554     555  0.230725      enumb\n",
       "1892   1893  0.229032        you\n",
       "1078   1079  0.226756  multipart\n",
       "1851   1852  0.222466       will\n",
       "1088   1089  0.221158       nbsp\n",
       "791     792  0.209870       hour"
      ]
     },
     "execution_count": 15,
     "metadata": {},
     "output_type": "execute_result"
    }
   ],
   "source": [
    "w_df = pd.DataFrame({'index':[i for i in range(1, len(w)+1)], 'w': w, 'word': vocab['word']})\n",
    "w_df.sort_values('w', ascending=False).iloc[0:15]"
   ]
  }
 ],
 "metadata": {
  "kernelspec": {
   "display_name": "Python 3",
   "language": "python",
   "name": "python3"
  },
  "language_info": {
   "codemirror_mode": {
    "name": "ipython",
    "version": 3
   },
   "file_extension": ".py",
   "mimetype": "text/x-python",
   "name": "python",
   "nbconvert_exporter": "python",
   "pygments_lexer": "ipython3",
   "version": "3.8.5"
  },
  "latex_envs": {
   "LaTeX_envs_menu_present": true,
   "autoclose": false,
   "autocomplete": true,
   "bibliofile": "biblio.bib",
   "cite_by": "apalike",
   "current_citInitial": 1,
   "eqLabelWithNumbers": true,
   "eqNumInitial": 1,
   "hotkeys": {
    "equation": "Ctrl-E",
    "itemize": "Ctrl-I"
   },
   "labels_anchors": false,
   "latex_user_defs": false,
   "report_style_numbering": false,
   "user_envs_cfg": false
  },
  "toc": {
   "base_numbering": 1,
   "nav_menu": {},
   "number_sections": true,
   "sideBar": true,
   "skip_h1_title": false,
   "title_cell": "Table of Contents",
   "title_sidebar": "Contents",
   "toc_cell": false,
   "toc_position": {},
   "toc_section_display": true,
   "toc_window_display": false
  },
  "varInspector": {
   "cols": {
    "lenName": 16,
    "lenType": 16,
    "lenVar": 40
   },
   "kernels_config": {
    "python": {
     "delete_cmd_postfix": "",
     "delete_cmd_prefix": "del ",
     "library": "var_list.py",
     "varRefreshCmd": "print(var_dic_list())"
    },
    "r": {
     "delete_cmd_postfix": ") ",
     "delete_cmd_prefix": "rm(",
     "library": "var_list.r",
     "varRefreshCmd": "cat(var_dic_list()) "
    }
   },
   "types_to_exclude": [
    "module",
    "function",
    "builtin_function_or_method",
    "instance",
    "_Feature"
   ],
   "window_display": false
  }
 },
 "nbformat": 4,
 "nbformat_minor": 5
}
