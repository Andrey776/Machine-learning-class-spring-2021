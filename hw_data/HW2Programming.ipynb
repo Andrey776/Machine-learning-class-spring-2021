{
 "cells": [
  {
   "cell_type": "markdown",
   "metadata": {},
   "source": [
    "# Homework 2 (Programming Part)"
   ]
  },
  {
   "cell_type": "markdown",
   "metadata": {},
   "source": [
    "## Problem 1"
   ]
  },
  {
   "cell_type": "markdown",
   "metadata": {},
   "source": [
    "Suppose you are the CEO of a food truck company and are considering different cities for opening a new\n",
    "outlet. The chain already has trucks in various cities and you have data for profits and populations from the cities. You would like to use this data to help you select which city to expand to next.\n",
    "\n",
    "The file foodtruck.txt contains the dataset for our linear regression problem. The first column is the population of a city (in 10000s) and the second column is the profit of a food truck in that city (in $10000s). A negative value for profit indicates a loss.\n",
    "\n",
    "(a) Show a scatter plot of the data (profit vs population)\n",
    "\n",
    "(b) Train a linear regression model with a non-iterative method. Show the minimum cost (RSS).\n",
    "\n",
    "(c) Train a linear regression model with stochastic gradient descent (without regularization). Show the minimum cost and check the manual of the class you used to see if you can find the number of epochs before the program is finished.\n",
    "\n",
    "(d) Make predictions for profits in areas of 35000 and 70000 people.\n",
    "\n",
    "(e) Make a plot of the regression line along with the training data."
   ]
  },
  {
   "cell_type": "markdown",
   "metadata": {},
   "source": [
    "## Problem 2"
   ]
  },
  {
   "cell_type": "markdown",
   "metadata": {},
   "source": [
    "Suppose you are selling your house and you want to know what a good market price would be. One way to do this is to first collect information on recent houses sold and make a model of housing prices. \n",
    "\n",
    "The file houseprice.txt contains a training set of housing prices in Portland, Oregon. The first column is the size of the house (in square feet), the second column is the number of bedrooms, and the third column is the price\n",
    "of the house.\n",
    "\n",
    "(a) Train a linear regression model with SGD and print out the minimum cost (RSS).\\\\\n",
    "\n",
    "(b) Train a linear regression model with a non-iterative method and print out the minimum cost (RSS).\\\\\n",
    "\n",
    "(c) Do the minimum costs agree?\\\\\n",
    "\n",
    "(d) Scale you feature matrix using sklearn.preprocessing.StandardScaler. See the manual about what it is and how to use it. Train a linear regression model with SGD using the scaled features. Print out the minimum cost and what do you find?"
   ]
  },
  {
   "cell_type": "markdown",
   "metadata": {},
   "source": [
    "## Problem 3"
   ]
  },
  {
   "cell_type": "markdown",
   "metadata": {},
   "source": [
    "We want to implement regularized logistic regression to predict whether microchips from a fabrication plant passes quality assurance (QA). During QA, each microchip goes through various tests to ensure it is functioning correctly.\n",
    "\n",
    "Suppose you are the product manager of the factory and you have the test results for some microchips on two different tests. From these two tests, you would like to determine whether the microchips should be accepted or\n",
    "rejected. To help you make the decision, you have a dataset of test results on past microchips, from which you can build a logistic regression model. The data are stored in QA.txt. The first two columns are the results for the two tests. The third column is the acceptance (1) or rejection (0) of the microchips.\n",
    "\n",
    "(a) Visualize the data; different classes should have different colors and markers.\n",
    "\n",
    "(b) Use polynomial features of degree 6 for the logistic regression. Use L2 regulariztion where $\\alpha=1$. Use the following function plot_decision_boundary to plot the decision boundary.\n",
    "\n",
    "(c) Repeat (b) using $\\alpha=0$ and $\\alpha=100$\n",
    "\n",
    "(d) What do you find for the three cases?"
   ]
  },
  {
   "cell_type": "code",
   "execution_count": null,
   "metadata": {},
   "outputs": [],
   "source": [
    "def plot_decision_boundary(model, accepted, rejected):\n",
    "    \"\"\"\n",
    "    Plot the decision boundary along with the data for problem 3\n",
    "    input:\n",
    "    model: the logistic regression model\n",
    "    accepted: dataframe of two columns that contains the two test scores for accepted microchips\n",
    "    rejected: dataframe of two columns that contains the two test scores for rejected microchips\n",
    "    \"\"\"\n",
    "    x_min, x_max = -1, 1.5\n",
    "    y_min, y_max = -0.8, 1.2\n",
    "    xx, yy = np.meshgrid(np.linspace(x_min, x_max, 200),\n",
    "                         np.linspace(y_min, y_max, 200))\n",
    "    Z = log_reg.predict(poly.transform(np.c_[xx.ravel(), yy.ravel()]))\n",
    "    Z = Z.reshape(xx.shape)\n",
    "    plt.contour(xx, yy, Z, cmap=plt.cm.Paired)\n",
    "    \n",
    "    plt.scatter(accepted.iloc[:, 0], accepted.iloc[:, 1], marker='x')\n",
    "    plt.scatter(rejected.iloc[:, 0], rejected.iloc[:, 1], marker='s')\n",
    "    plt.legend(['Accepted', 'Rejected'])\n",
    "    plt.xlabel('Test score 1')\n",
    "    plt.ylabel('Test score 2');"
   ]
  }
 ],
 "metadata": {
  "kernelspec": {
   "display_name": "Python 3",
   "language": "python",
   "name": "python3"
  },
  "language_info": {
   "codemirror_mode": {
    "name": "ipython",
    "version": 3
   },
   "file_extension": ".py",
   "mimetype": "text/x-python",
   "name": "python",
   "nbconvert_exporter": "python",
   "pygments_lexer": "ipython3",
   "version": "3.8.5"
  },
  "latex_envs": {
   "LaTeX_envs_menu_present": true,
   "autoclose": false,
   "autocomplete": true,
   "bibliofile": "biblio.bib",
   "cite_by": "apalike",
   "current_citInitial": 1,
   "eqLabelWithNumbers": true,
   "eqNumInitial": 1,
   "hotkeys": {
    "equation": "Ctrl-E",
    "itemize": "Ctrl-I"
   },
   "labels_anchors": false,
   "latex_user_defs": false,
   "report_style_numbering": false,
   "user_envs_cfg": false
  },
  "toc": {
   "base_numbering": 1,
   "nav_menu": {},
   "number_sections": true,
   "sideBar": true,
   "skip_h1_title": false,
   "title_cell": "Table of Contents",
   "title_sidebar": "Contents",
   "toc_cell": false,
   "toc_position": {},
   "toc_section_display": true,
   "toc_window_display": false
  }
 },
 "nbformat": 4,
 "nbformat_minor": 4
}
